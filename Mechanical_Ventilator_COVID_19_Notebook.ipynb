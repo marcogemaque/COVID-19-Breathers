{
  "nbformat": 4,
  "nbformat_minor": 0,
  "metadata": {
    "colab": {
      "name": "Mechanical Ventilator COVID-19 Notebook.ipynb",
      "provenance": [],
      "collapsed_sections": [],
      "authorship_tag": "ABX9TyNCKoLVl4DjnBeek4LcVesb",
      "include_colab_link": true
    },
    "kernelspec": {
      "name": "python3",
      "display_name": "Python 3"
    }
  },
  "cells": [
    {
      "cell_type": "markdown",
      "metadata": {
        "id": "view-in-github",
        "colab_type": "text"
      },
      "source": [
        "<a href=\"https://colab.research.google.com/github/marcogemaque/COVID-19-Breathers/blob/main/Mechanical_Ventilator_COVID_19_Notebook.ipynb\" target=\"_parent\"><img src=\"https://colab.research.google.com/assets/colab-badge.svg\" alt=\"Open In Colab\"/></a>"
      ]
    },
    {
      "cell_type": "markdown",
      "metadata": {
        "id": "frZo9CBUYqMH"
      },
      "source": [
        "#**A Duck's Dream**"
      ]
    },
    {
      "cell_type": "markdown",
      "metadata": {
        "id": "fdjUBXzIYsZO"
      },
      "source": [
        "### **Breathers on COVID-19**"
      ]
    },
    {
      "cell_type": "code",
      "metadata": {
        "id": "0LKGOjMfZcHg"
      },
      "source": [
        "import pandas as pd\n",
        "import numpy as np\n",
        "import matplotlib.pyplot as plt\n",
        "import seaborn as sns\n",
        "import re"
      ],
      "execution_count": null,
      "outputs": []
    },
    {
      "cell_type": "code",
      "metadata": {
        "id": "AiggJBBvY_hf",
        "outputId": "5d3a747c-f505-4c23-d568-c6d57342180b",
        "colab": {
          "base_uri": "https://localhost:8080/"
        }
      },
      "source": [
        "from google.colab import drive\n",
        "drive.mount('/content/drive')"
      ],
      "execution_count": null,
      "outputs": [
        {
          "output_type": "stream",
          "text": [
            "Drive already mounted at /content/drive; to attempt to forcibly remount, call drive.mount(\"/content/drive\", force_remount=True).\n"
          ],
          "name": "stdout"
        }
      ]
    },
    {
      "cell_type": "code",
      "metadata": {
        "id": "X5WZYi1FZVsx"
      },
      "source": [
        "df_real = pd.read_csv(\"/content/drive/My Drive/A Duck's Dream/distribuicao_respiradores.csv\", sep=';')"
      ],
      "execution_count": null,
      "outputs": []
    },
    {
      "cell_type": "code",
      "metadata": {
        "id": "iiKRFfy6Z4Sg",
        "outputId": "b33e1a4a-370c-4d80-f4fc-21dcdc99fac4",
        "colab": {
          "base_uri": "https://localhost:8080/",
          "height": 288
        }
      },
      "source": [
        "df = df_real.copy()\n",
        "df.head()"
      ],
      "execution_count": null,
      "outputs": [
        {
          "output_type": "execute_result",
          "data": {
            "text/html": [
              "<div>\n",
              "<style scoped>\n",
              "    .dataframe tbody tr th:only-of-type {\n",
              "        vertical-align: middle;\n",
              "    }\n",
              "\n",
              "    .dataframe tbody tr th {\n",
              "        vertical-align: top;\n",
              "    }\n",
              "\n",
              "    .dataframe thead th {\n",
              "        text-align: right;\n",
              "    }\n",
              "</style>\n",
              "<table border=\"1\" class=\"dataframe\">\n",
              "  <thead>\n",
              "    <tr style=\"text-align: right;\">\n",
              "      <th></th>\n",
              "      <th>DATA</th>\n",
              "      <th>FORNECEDOR</th>\n",
              "      <th>DESTINO</th>\n",
              "      <th>ESTADO/MUNICIPIO</th>\n",
              "      <th>TIPO</th>\n",
              "      <th>QUANTIDADE</th>\n",
              "      <th>VALOR</th>\n",
              "      <th>DESTINATARIO</th>\n",
              "      <th>UF</th>\n",
              "      <th>DATA DE ENTREGA</th>\n",
              "    </tr>\n",
              "  </thead>\n",
              "  <tbody>\n",
              "    <tr>\n",
              "      <th>0</th>\n",
              "      <td>19/04/2020</td>\n",
              "      <td>VYAIRE</td>\n",
              "      <td>RIO DE JANEIRO</td>\n",
              "      <td>ESTADO</td>\n",
              "      <td>UTI</td>\n",
              "      <td>40</td>\n",
              "      <td>2400000,00</td>\n",
              "      <td>ALMOXARIFADO ESTADUAL DE MEDICAMENTOS - RIO DE...</td>\n",
              "      <td>RJ</td>\n",
              "      <td>19/04/2020</td>\n",
              "    </tr>\n",
              "    <tr>\n",
              "      <th>1</th>\n",
              "      <td>22/04/2020</td>\n",
              "      <td>VYAIRE</td>\n",
              "      <td>RIO DE JANEIRO</td>\n",
              "      <td>ESTADO</td>\n",
              "      <td>UTI</td>\n",
              "      <td>20</td>\n",
              "      <td>1200000,00</td>\n",
              "      <td>LABORATÓRIO QUÍMICO FARMACÊUTICO DE AERONÁUTICA</td>\n",
              "      <td>RJ</td>\n",
              "      <td>23/04/2020</td>\n",
              "    </tr>\n",
              "    <tr>\n",
              "      <th>2</th>\n",
              "      <td>08/05/2020</td>\n",
              "      <td>MAGNAMED</td>\n",
              "      <td>RIO DE JANEIRO</td>\n",
              "      <td>ESTADO</td>\n",
              "      <td>UTI</td>\n",
              "      <td>25</td>\n",
              "      <td>1500000,00</td>\n",
              "      <td>ALMOXARIFADO ESTADUAL DE MEDICAMENTOS - RIO DE...</td>\n",
              "      <td>RJ</td>\n",
              "      <td>09/05/2020</td>\n",
              "    </tr>\n",
              "    <tr>\n",
              "      <th>3</th>\n",
              "      <td>08/05/2020</td>\n",
              "      <td>KTK</td>\n",
              "      <td>RIO DE JANEIRO</td>\n",
              "      <td>ESTADO</td>\n",
              "      <td>UTI</td>\n",
              "      <td>15</td>\n",
              "      <td>900000,00</td>\n",
              "      <td>ALMOXARIFADO ESTADUAL DE MEDICAMENTOS - RIO DE...</td>\n",
              "      <td>RJ</td>\n",
              "      <td>09/05/2020</td>\n",
              "    </tr>\n",
              "    <tr>\n",
              "      <th>4</th>\n",
              "      <td>09/05/2020</td>\n",
              "      <td>LEISTUNG</td>\n",
              "      <td>RIO DE JANEIRO</td>\n",
              "      <td>ESTADO</td>\n",
              "      <td>UTI</td>\n",
              "      <td>6</td>\n",
              "      <td>360000,00</td>\n",
              "      <td>ALMOXARIFADO ESTADUAL DE MEDICAMENTOS - RIO DE...</td>\n",
              "      <td>RJ</td>\n",
              "      <td>09/05/2020</td>\n",
              "    </tr>\n",
              "  </tbody>\n",
              "</table>\n",
              "</div>"
            ],
            "text/plain": [
              "         DATA FORNECEDOR  ...  UF DATA DE ENTREGA\n",
              "0  19/04/2020     VYAIRE  ...  RJ      19/04/2020\n",
              "1  22/04/2020     VYAIRE  ...  RJ      23/04/2020\n",
              "2  08/05/2020   MAGNAMED  ...  RJ      09/05/2020\n",
              "3  08/05/2020        KTK  ...  RJ      09/05/2020\n",
              "4  09/05/2020   LEISTUNG  ...  RJ      09/05/2020\n",
              "\n",
              "[5 rows x 10 columns]"
            ]
          },
          "metadata": {
            "tags": []
          },
          "execution_count": 14
        }
      ]
    },
    {
      "cell_type": "code",
      "metadata": {
        "id": "Pzj1ZFCPaCIP",
        "outputId": "ea55b243-84c6-4d39-a41b-966cd9f1e69e",
        "colab": {
          "base_uri": "https://localhost:8080/"
        }
      },
      "source": [
        "df.info()"
      ],
      "execution_count": null,
      "outputs": [
        {
          "output_type": "stream",
          "text": [
            "<class 'pandas.core.frame.DataFrame'>\n",
            "RangeIndex: 1647 entries, 0 to 1646\n",
            "Data columns (total 10 columns):\n",
            " #   Column            Non-Null Count  Dtype \n",
            "---  ------            --------------  ----- \n",
            " 0   DATA              1647 non-null   object\n",
            " 1   FORNECEDOR        1647 non-null   object\n",
            " 2   DESTINO           1647 non-null   object\n",
            " 3   ESTADO/MUNICIPIO  1647 non-null   object\n",
            " 4   TIPO              1647 non-null   object\n",
            " 5   QUANTIDADE        1647 non-null   int64 \n",
            " 6   VALOR             1647 non-null   object\n",
            " 7   DESTINATARIO      1647 non-null   object\n",
            " 8   UF                1647 non-null   object\n",
            " 9   DATA DE ENTREGA   1647 non-null   object\n",
            "dtypes: int64(1), object(9)\n",
            "memory usage: 128.8+ KB\n"
          ],
          "name": "stdout"
        }
      ]
    },
    {
      "cell_type": "code",
      "metadata": {
        "id": "c7BvMv2_PaiX",
        "outputId": "c050e741-f7b3-43cc-9b5b-71fa6b5a45e2",
        "colab": {
          "base_uri": "https://localhost:8080/",
          "height": 272
        }
      },
      "source": [
        "df['VALOR'] = df['VALOR'].str.replace(',','.')\n",
        "df['VALOR'] = pd.to_numeric(df['VALOR'], errors='coerce')\n",
        "df.tail()"
      ],
      "execution_count": null,
      "outputs": [
        {
          "output_type": "execute_result",
          "data": {
            "text/html": [
              "<div>\n",
              "<style scoped>\n",
              "    .dataframe tbody tr th:only-of-type {\n",
              "        vertical-align: middle;\n",
              "    }\n",
              "\n",
              "    .dataframe tbody tr th {\n",
              "        vertical-align: top;\n",
              "    }\n",
              "\n",
              "    .dataframe thead th {\n",
              "        text-align: right;\n",
              "    }\n",
              "</style>\n",
              "<table border=\"1\" class=\"dataframe\">\n",
              "  <thead>\n",
              "    <tr style=\"text-align: right;\">\n",
              "      <th></th>\n",
              "      <th>DATA</th>\n",
              "      <th>FORNECEDOR</th>\n",
              "      <th>DESTINO</th>\n",
              "      <th>ESTADO/MUNICIPIO</th>\n",
              "      <th>TIPO</th>\n",
              "      <th>QUANTIDADE</th>\n",
              "      <th>VALOR</th>\n",
              "      <th>DESTINATARIO</th>\n",
              "      <th>UF</th>\n",
              "      <th>DATA DE ENTREGA</th>\n",
              "    </tr>\n",
              "  </thead>\n",
              "  <tbody>\n",
              "    <tr>\n",
              "      <th>1642</th>\n",
              "      <td>24/09/2020</td>\n",
              "      <td>VYAIRE LTV 2200 USA</td>\n",
              "      <td>PARANA</td>\n",
              "      <td>MUNICIPIO</td>\n",
              "      <td>TRANSPORTE USA</td>\n",
              "      <td>1</td>\n",
              "      <td>63125.97</td>\n",
              "      <td>SMS de GUAIRA</td>\n",
              "      <td>PR</td>\n",
              "      <td>28/09/2020</td>\n",
              "    </tr>\n",
              "    <tr>\n",
              "      <th>1643</th>\n",
              "      <td>08/10/2020</td>\n",
              "      <td>VYAIRE LTV 2200 USA</td>\n",
              "      <td>PARANA</td>\n",
              "      <td>ESTADO</td>\n",
              "      <td>TRANSPORTE USA</td>\n",
              "      <td>20</td>\n",
              "      <td>1262519.40</td>\n",
              "      <td>5o Batalhao de Suprimento</td>\n",
              "      <td>PR</td>\n",
              "      <td>17/10/2020</td>\n",
              "    </tr>\n",
              "    <tr>\n",
              "      <th>1644</th>\n",
              "      <td>08/10/2020</td>\n",
              "      <td>MAGNAMED</td>\n",
              "      <td>PARANA</td>\n",
              "      <td>ESTADO</td>\n",
              "      <td>UTI</td>\n",
              "      <td>4</td>\n",
              "      <td>240000.00</td>\n",
              "      <td>5o Batalhao de Suprimento</td>\n",
              "      <td>PR</td>\n",
              "      <td>17/10/2020</td>\n",
              "    </tr>\n",
              "    <tr>\n",
              "      <th>1645</th>\n",
              "      <td>16/10/2020</td>\n",
              "      <td>MAGNAMED</td>\n",
              "      <td>PARANA</td>\n",
              "      <td>MUNICIPIO</td>\n",
              "      <td>UTI</td>\n",
              "      <td>1</td>\n",
              "      <td>60000.00</td>\n",
              "      <td>SMS de WENCESLAU BRAZ</td>\n",
              "      <td>PR</td>\n",
              "      <td>21/10/2020</td>\n",
              "    </tr>\n",
              "    <tr>\n",
              "      <th>1646</th>\n",
              "      <td>07/08/2020</td>\n",
              "      <td>MAGNAMED</td>\n",
              "      <td>LIBANO</td>\n",
              "      <td>-</td>\n",
              "      <td>TRANSPORTE</td>\n",
              "      <td>300</td>\n",
              "      <td>14487000.00</td>\n",
              "      <td>MISSÃO FAB (Doação Destino ao Libano).</td>\n",
              "      <td>-</td>\n",
              "      <td>08/08/2020</td>\n",
              "    </tr>\n",
              "  </tbody>\n",
              "</table>\n",
              "</div>"
            ],
            "text/plain": [
              "            DATA           FORNECEDOR  ...  UF DATA DE ENTREGA\n",
              "1642  24/09/2020  VYAIRE LTV 2200 USA  ...  PR      28/09/2020\n",
              "1643  08/10/2020  VYAIRE LTV 2200 USA  ...  PR      17/10/2020\n",
              "1644  08/10/2020             MAGNAMED  ...  PR      17/10/2020\n",
              "1645  16/10/2020             MAGNAMED  ...  PR      21/10/2020\n",
              "1646  07/08/2020             MAGNAMED  ...   -      08/08/2020\n",
              "\n",
              "[5 rows x 10 columns]"
            ]
          },
          "metadata": {
            "tags": []
          },
          "execution_count": 16
        }
      ]
    },
    {
      "cell_type": "code",
      "metadata": {
        "id": "o4sePyJymVaQ",
        "outputId": "69361b40-9eea-4ae9-f1f1-4c25416f99f6",
        "colab": {
          "base_uri": "https://localhost:8080/"
        }
      },
      "source": [
        "df.info()"
      ],
      "execution_count": null,
      "outputs": [
        {
          "output_type": "stream",
          "text": [
            "<class 'pandas.core.frame.DataFrame'>\n",
            "RangeIndex: 1647 entries, 0 to 1646\n",
            "Data columns (total 10 columns):\n",
            " #   Column            Non-Null Count  Dtype  \n",
            "---  ------            --------------  -----  \n",
            " 0   DATA              1647 non-null   object \n",
            " 1   FORNECEDOR        1647 non-null   object \n",
            " 2   DESTINO           1647 non-null   object \n",
            " 3   ESTADO/MUNICIPIO  1647 non-null   object \n",
            " 4   TIPO              1647 non-null   object \n",
            " 5   QUANTIDADE        1647 non-null   int64  \n",
            " 6   VALOR             1647 non-null   float64\n",
            " 7   DESTINATARIO      1647 non-null   object \n",
            " 8   UF                1647 non-null   object \n",
            " 9   DATA DE ENTREGA   1647 non-null   object \n",
            "dtypes: float64(1), int64(1), object(8)\n",
            "memory usage: 128.8+ KB\n"
          ],
          "name": "stdout"
        }
      ]
    },
    {
      "cell_type": "code",
      "metadata": {
        "id": "eA3RwcqmZHbb",
        "outputId": "c0960ef3-5821-4301-81c8-adf76261a4b0",
        "colab": {
          "base_uri": "https://localhost:8080/"
        }
      },
      "source": [
        "df_date = df['DATA'].str.contains('[0-9]{2}.[0-9]{2}.[0-9]{4}')\n",
        "df_date = df_date.loc[df_date == False]\n",
        "df_date"
      ],
      "execution_count": null,
      "outputs": [
        {
          "output_type": "execute_result",
          "data": {
            "text/plain": [
              "300     False\n",
              "837     False\n",
              "1503    False\n",
              "Name: DATA, dtype: bool"
            ]
          },
          "metadata": {
            "tags": []
          },
          "execution_count": 19
        }
      ]
    },
    {
      "cell_type": "code",
      "metadata": {
        "id": "cdGE8SXeemB1",
        "outputId": "775dfeb9-6811-46d6-a7f3-6995da06dd8c",
        "colab": {
          "base_uri": "https://localhost:8080/",
          "height": 136
        }
      },
      "source": [
        "sel = df.iloc[[300, 837, 1503]]\n",
        "sel"
      ],
      "execution_count": null,
      "outputs": [
        {
          "output_type": "execute_result",
          "data": {
            "text/html": [
              "<div>\n",
              "<style scoped>\n",
              "    .dataframe tbody tr th:only-of-type {\n",
              "        vertical-align: middle;\n",
              "    }\n",
              "\n",
              "    .dataframe tbody tr th {\n",
              "        vertical-align: top;\n",
              "    }\n",
              "\n",
              "    .dataframe thead th {\n",
              "        text-align: right;\n",
              "    }\n",
              "</style>\n",
              "<table border=\"1\" class=\"dataframe\">\n",
              "  <thead>\n",
              "    <tr style=\"text-align: right;\">\n",
              "      <th></th>\n",
              "      <th>DATA</th>\n",
              "      <th>FORNECEDOR</th>\n",
              "      <th>DESTINO</th>\n",
              "      <th>ESTADO/MUNICIPIO</th>\n",
              "      <th>TIPO</th>\n",
              "      <th>QUANTIDADE</th>\n",
              "      <th>VALOR</th>\n",
              "      <th>DESTINATARIO</th>\n",
              "      <th>UF</th>\n",
              "      <th>DATA DE ENTREGA</th>\n",
              "    </tr>\n",
              "  </thead>\n",
              "  <tbody>\n",
              "    <tr>\n",
              "      <th>300</th>\n",
              "      <td>ESTADO</td>\n",
              "      <td>WEG</td>\n",
              "      <td>DISTRITO FEDERAL</td>\n",
              "      <td>ESTADO</td>\n",
              "      <td>UTI</td>\n",
              "      <td>25</td>\n",
              "      <td>1500000.0</td>\n",
              "      <td>Secretaria Estadual de Saúde</td>\n",
              "      <td>DF</td>\n",
              "      <td>10/06/2020</td>\n",
              "    </tr>\n",
              "    <tr>\n",
              "      <th>837</th>\n",
              "      <td>2020-04-30 00:00:00</td>\n",
              "      <td>LEISTUNG</td>\n",
              "      <td>PARA</td>\n",
              "      <td>ESTADO</td>\n",
              "      <td>UTI</td>\n",
              "      <td>60</td>\n",
              "      <td>3600000.0</td>\n",
              "      <td>Secretaria Estadual de Saúde</td>\n",
              "      <td>PA</td>\n",
              "      <td>31/04/2020</td>\n",
              "    </tr>\n",
              "    <tr>\n",
              "      <th>1503</th>\n",
              "      <td>16/10/M2020</td>\n",
              "      <td>MAGNAMED</td>\n",
              "      <td>RIO GRANDE DO SUL</td>\n",
              "      <td>MUNICIPIO</td>\n",
              "      <td>UTI</td>\n",
              "      <td>1</td>\n",
              "      <td>60000.0</td>\n",
              "      <td>SECR MUN DE SAUDE DE MUCUM  RS</td>\n",
              "      <td>RS</td>\n",
              "      <td>21/10/2020</td>\n",
              "    </tr>\n",
              "  </tbody>\n",
              "</table>\n",
              "</div>"
            ],
            "text/plain": [
              "                     DATA FORNECEDOR  ...  UF DATA DE ENTREGA\n",
              "300                ESTADO        WEG  ...  DF      10/06/2020\n",
              "837   2020-04-30 00:00:00   LEISTUNG  ...  PA      31/04/2020\n",
              "1503          16/10/M2020   MAGNAMED  ...  RS      21/10/2020\n",
              "\n",
              "[3 rows x 10 columns]"
            ]
          },
          "metadata": {
            "tags": []
          },
          "execution_count": 92
        }
      ]
    },
    {
      "cell_type": "code",
      "metadata": {
        "id": "gywlEOcPeze1"
      },
      "source": [
        "#One way to do it\n",
        "df.at[837,'DATA'] = '30/04/2020'\n",
        "df.at[1503,'DATA'] = '16/10/2020'"
      ],
      "execution_count": null,
      "outputs": []
    },
    {
      "cell_type": "code",
      "metadata": {
        "id": "A7HX-QO2hBxS",
        "outputId": "87fc2971-a050-496b-89d6-c2d8713512e8",
        "colab": {
          "base_uri": "https://localhost:8080/"
        }
      },
      "source": [
        "df_date = df['DATA DE ENTREGA'].str.contains('[0-9]{2}.[0-9]{2}.[0-9]{4}')\n",
        "df_date = df_date.loc[df_date == False]\n",
        "df_date"
      ],
      "execution_count": null,
      "outputs": [
        {
          "output_type": "execute_result",
          "data": {
            "text/plain": [
              "Series([], Name: DATA DE ENTREGA, dtype: bool)"
            ]
          },
          "metadata": {
            "tags": []
          },
          "execution_count": 30
        }
      ]
    },
    {
      "cell_type": "code",
      "metadata": {
        "id": "Ab4CgWtm2WTr",
        "outputId": "b14b073c-9805-4315-ab8b-10c79334f34a",
        "colab": {
          "base_uri": "https://localhost:8080/"
        }
      },
      "source": [
        "df_date = pd.to_datetime(df['DATA DE ENTREGA'], errors='coerce')\n",
        "error = df_date.loc[df_date.isnull()]\n",
        "error"
      ],
      "execution_count": null,
      "outputs": [
        {
          "output_type": "execute_result",
          "data": {
            "text/plain": [
              "Series([], Name: DATA DE ENTREGA, dtype: datetime64[ns])"
            ]
          },
          "metadata": {
            "tags": []
          },
          "execution_count": 31
        }
      ]
    },
    {
      "cell_type": "code",
      "metadata": {
        "id": "P9Tdqo77iUZY",
        "outputId": "f73421a9-fce9-419e-bd59-2840b25e5a02",
        "colab": {
          "base_uri": "https://localhost:8080/",
          "height": 76
        }
      },
      "source": [
        "df.loc[[837]]"
      ],
      "execution_count": null,
      "outputs": [
        {
          "output_type": "execute_result",
          "data": {
            "text/html": [
              "<div>\n",
              "<style scoped>\n",
              "    .dataframe tbody tr th:only-of-type {\n",
              "        vertical-align: middle;\n",
              "    }\n",
              "\n",
              "    .dataframe tbody tr th {\n",
              "        vertical-align: top;\n",
              "    }\n",
              "\n",
              "    .dataframe thead th {\n",
              "        text-align: right;\n",
              "    }\n",
              "</style>\n",
              "<table border=\"1\" class=\"dataframe\">\n",
              "  <thead>\n",
              "    <tr style=\"text-align: right;\">\n",
              "      <th></th>\n",
              "      <th>DATA</th>\n",
              "      <th>FORNECEDOR</th>\n",
              "      <th>DESTINO</th>\n",
              "      <th>ESTADO/MUNICIPIO</th>\n",
              "      <th>TIPO</th>\n",
              "      <th>QUANTIDADE</th>\n",
              "      <th>VALOR</th>\n",
              "      <th>DESTINATARIO</th>\n",
              "      <th>UF</th>\n",
              "      <th>DATA DE ENTREGA</th>\n",
              "    </tr>\n",
              "  </thead>\n",
              "  <tbody>\n",
              "    <tr>\n",
              "      <th>837</th>\n",
              "      <td>30/04/2020</td>\n",
              "      <td>LEISTUNG</td>\n",
              "      <td>PARA</td>\n",
              "      <td>ESTADO</td>\n",
              "      <td>UTI</td>\n",
              "      <td>60</td>\n",
              "      <td>3600000.0</td>\n",
              "      <td>Secretaria Estadual de Saúde</td>\n",
              "      <td>PA</td>\n",
              "      <td>01/05/2020</td>\n",
              "    </tr>\n",
              "  </tbody>\n",
              "</table>\n",
              "</div>"
            ],
            "text/plain": [
              "           DATA FORNECEDOR  ...  UF DATA DE ENTREGA\n",
              "837  30/04/2020   LEISTUNG  ...  PA      01/05/2020\n",
              "\n",
              "[1 rows x 10 columns]"
            ]
          },
          "metadata": {
            "tags": []
          },
          "execution_count": 32
        }
      ]
    },
    {
      "cell_type": "code",
      "metadata": {
        "id": "NgoH-T0Dj8LY"
      },
      "source": [
        "df.at[837,'DATA DE ENTREGA'] = '01/05/2020'"
      ],
      "execution_count": null,
      "outputs": []
    },
    {
      "cell_type": "code",
      "metadata": {
        "id": "Mu_IWiiWDIUn",
        "outputId": "f769cb69-759a-4cd5-ecfd-ec0c9e98b8f3",
        "colab": {
          "base_uri": "https://localhost:8080/",
          "height": 321
        }
      },
      "source": [
        "#Create a dataframe that excludes our broken data for calculating delay\n",
        "df_delay = df.copy()\n",
        "df_delay = df_delay.drop([300],axis=0)\n",
        "df_delay['DATA DE ENTREGA'] = pd.to_datetime(df_delay['DATA DE ENTREGA'], format=\"%d/%m/%Y\")\n",
        "df_delay['DATA'] = pd.to_datetime(df_delay['DATA'], format=\"%d/%m/%Y\")\n",
        "df_delay['DELAY'] = df_delay['DATA DE ENTREGA'] - df_delay['DATA']\n",
        "sorted = df_delay.sort_values(by='DELAY')\n",
        "sorted.head()"
      ],
      "execution_count": null,
      "outputs": [
        {
          "output_type": "execute_result",
          "data": {
            "text/html": [
              "<div>\n",
              "<style scoped>\n",
              "    .dataframe tbody tr th:only-of-type {\n",
              "        vertical-align: middle;\n",
              "    }\n",
              "\n",
              "    .dataframe tbody tr th {\n",
              "        vertical-align: top;\n",
              "    }\n",
              "\n",
              "    .dataframe thead th {\n",
              "        text-align: right;\n",
              "    }\n",
              "</style>\n",
              "<table border=\"1\" class=\"dataframe\">\n",
              "  <thead>\n",
              "    <tr style=\"text-align: right;\">\n",
              "      <th></th>\n",
              "      <th>DATA</th>\n",
              "      <th>FORNECEDOR</th>\n",
              "      <th>DESTINO</th>\n",
              "      <th>ESTADO/MUNICIPIO</th>\n",
              "      <th>TIPO</th>\n",
              "      <th>QUANTIDADE</th>\n",
              "      <th>VALOR</th>\n",
              "      <th>DESTINATARIO</th>\n",
              "      <th>UF</th>\n",
              "      <th>DATA DE ENTREGA</th>\n",
              "      <th>DELAY</th>\n",
              "    </tr>\n",
              "  </thead>\n",
              "  <tbody>\n",
              "    <tr>\n",
              "      <th>829</th>\n",
              "      <td>2020-06-02</td>\n",
              "      <td>MAGNAMED</td>\n",
              "      <td>RORAIMA</td>\n",
              "      <td>ESTADO</td>\n",
              "      <td>TRANSPORTE</td>\n",
              "      <td>15</td>\n",
              "      <td>724350.0</td>\n",
              "      <td>Secretaria Estadual de Saúde</td>\n",
              "      <td>RR</td>\n",
              "      <td>2020-04-01</td>\n",
              "      <td>-62 days</td>\n",
              "    </tr>\n",
              "    <tr>\n",
              "      <th>828</th>\n",
              "      <td>2020-06-02</td>\n",
              "      <td>VYAIRE</td>\n",
              "      <td>RORAIMA</td>\n",
              "      <td>ESTADO</td>\n",
              "      <td>UTI</td>\n",
              "      <td>15</td>\n",
              "      <td>900000.0</td>\n",
              "      <td>Secretaria Estadual de Saúde</td>\n",
              "      <td>RR</td>\n",
              "      <td>2020-04-01</td>\n",
              "      <td>-62 days</td>\n",
              "    </tr>\n",
              "    <tr>\n",
              "      <th>0</th>\n",
              "      <td>2020-04-19</td>\n",
              "      <td>VYAIRE</td>\n",
              "      <td>RIO DE JANEIRO</td>\n",
              "      <td>ESTADO</td>\n",
              "      <td>UTI</td>\n",
              "      <td>40</td>\n",
              "      <td>2400000.0</td>\n",
              "      <td>ALMOXARIFADO ESTADUAL DE MEDICAMENTOS - RIO DE...</td>\n",
              "      <td>RJ</td>\n",
              "      <td>2020-04-19</td>\n",
              "      <td>0 days</td>\n",
              "    </tr>\n",
              "    <tr>\n",
              "      <th>1299</th>\n",
              "      <td>2020-06-25</td>\n",
              "      <td>KTK</td>\n",
              "      <td>SÃO PAULO</td>\n",
              "      <td>ESTADO</td>\n",
              "      <td>UTI</td>\n",
              "      <td>10</td>\n",
              "      <td>600000.0</td>\n",
              "      <td>Secretaria Estadual de Saúde</td>\n",
              "      <td>SP</td>\n",
              "      <td>2020-06-25</td>\n",
              "      <td>0 days</td>\n",
              "    </tr>\n",
              "    <tr>\n",
              "      <th>29</th>\n",
              "      <td>2020-06-08</td>\n",
              "      <td>KTK</td>\n",
              "      <td>RIO DE JANEIRO</td>\n",
              "      <td>ESTADO</td>\n",
              "      <td>TRANSPORTE</td>\n",
              "      <td>50</td>\n",
              "      <td>1000000.0</td>\n",
              "      <td>ALMOXARIFADO ESTADUAL DE MEDICAMENTOS - RIO DE...</td>\n",
              "      <td>RJ</td>\n",
              "      <td>2020-06-08</td>\n",
              "      <td>0 days</td>\n",
              "    </tr>\n",
              "  </tbody>\n",
              "</table>\n",
              "</div>"
            ],
            "text/plain": [
              "           DATA FORNECEDOR         DESTINO  ...  UF DATA DE ENTREGA    DELAY\n",
              "829  2020-06-02   MAGNAMED         RORAIMA  ...  RR      2020-04-01 -62 days\n",
              "828  2020-06-02     VYAIRE         RORAIMA  ...  RR      2020-04-01 -62 days\n",
              "0    2020-04-19     VYAIRE  RIO DE JANEIRO  ...  RJ      2020-04-19   0 days\n",
              "1299 2020-06-25        KTK       SÃO PAULO  ...  SP      2020-06-25   0 days\n",
              "29   2020-06-08        KTK  RIO DE JANEIRO  ...  RJ      2020-06-08   0 days\n",
              "\n",
              "[5 rows x 11 columns]"
            ]
          },
          "metadata": {
            "tags": []
          },
          "execution_count": 34
        }
      ]
    },
    {
      "cell_type": "code",
      "metadata": {
        "id": "QiSO6z1xHS4v",
        "outputId": "db71a63a-f504-4abe-df75-2fc46983343c",
        "colab": {
          "base_uri": "https://localhost:8080/",
          "height": 191
        }
      },
      "source": [
        "#Exclude the shitty columns 829 and 828\n",
        "df_delay = df_delay.drop([828,829], axis=0)\n",
        "df_delay.head()"
      ],
      "execution_count": 38,
      "outputs": [
        {
          "output_type": "execute_result",
          "data": {
            "text/html": [
              "<div>\n",
              "<style scoped>\n",
              "    .dataframe tbody tr th:only-of-type {\n",
              "        vertical-align: middle;\n",
              "    }\n",
              "\n",
              "    .dataframe tbody tr th {\n",
              "        vertical-align: top;\n",
              "    }\n",
              "\n",
              "    .dataframe thead th {\n",
              "        text-align: right;\n",
              "    }\n",
              "</style>\n",
              "<table border=\"1\" class=\"dataframe\">\n",
              "  <thead>\n",
              "    <tr style=\"text-align: right;\">\n",
              "      <th></th>\n",
              "      <th>DATA</th>\n",
              "      <th>FORNECEDOR</th>\n",
              "      <th>DESTINO</th>\n",
              "      <th>ESTADO/MUNICIPIO</th>\n",
              "      <th>TIPO</th>\n",
              "      <th>QUANTIDADE</th>\n",
              "      <th>VALOR</th>\n",
              "      <th>DESTINATARIO</th>\n",
              "      <th>UF</th>\n",
              "      <th>DATA DE ENTREGA</th>\n",
              "      <th>DELAY</th>\n",
              "    </tr>\n",
              "  </thead>\n",
              "  <tbody>\n",
              "    <tr>\n",
              "      <th>0</th>\n",
              "      <td>2020-04-19</td>\n",
              "      <td>VYAIRE</td>\n",
              "      <td>RIO DE JANEIRO</td>\n",
              "      <td>ESTADO</td>\n",
              "      <td>UTI</td>\n",
              "      <td>40</td>\n",
              "      <td>2400000.0</td>\n",
              "      <td>ALMOXARIFADO ESTADUAL DE MEDICAMENTOS - RIO DE...</td>\n",
              "      <td>RJ</td>\n",
              "      <td>2020-04-19</td>\n",
              "      <td>0 days</td>\n",
              "    </tr>\n",
              "    <tr>\n",
              "      <th>1</th>\n",
              "      <td>2020-04-22</td>\n",
              "      <td>VYAIRE</td>\n",
              "      <td>RIO DE JANEIRO</td>\n",
              "      <td>ESTADO</td>\n",
              "      <td>UTI</td>\n",
              "      <td>20</td>\n",
              "      <td>1200000.0</td>\n",
              "      <td>LABORATÓRIO QUÍMICO FARMACÊUTICO DE AERONÁUTICA</td>\n",
              "      <td>RJ</td>\n",
              "      <td>2020-04-23</td>\n",
              "      <td>1 days</td>\n",
              "    </tr>\n",
              "    <tr>\n",
              "      <th>2</th>\n",
              "      <td>2020-05-08</td>\n",
              "      <td>MAGNAMED</td>\n",
              "      <td>RIO DE JANEIRO</td>\n",
              "      <td>ESTADO</td>\n",
              "      <td>UTI</td>\n",
              "      <td>25</td>\n",
              "      <td>1500000.0</td>\n",
              "      <td>ALMOXARIFADO ESTADUAL DE MEDICAMENTOS - RIO DE...</td>\n",
              "      <td>RJ</td>\n",
              "      <td>2020-05-09</td>\n",
              "      <td>1 days</td>\n",
              "    </tr>\n",
              "    <tr>\n",
              "      <th>3</th>\n",
              "      <td>2020-05-08</td>\n",
              "      <td>KTK</td>\n",
              "      <td>RIO DE JANEIRO</td>\n",
              "      <td>ESTADO</td>\n",
              "      <td>UTI</td>\n",
              "      <td>15</td>\n",
              "      <td>900000.0</td>\n",
              "      <td>ALMOXARIFADO ESTADUAL DE MEDICAMENTOS - RIO DE...</td>\n",
              "      <td>RJ</td>\n",
              "      <td>2020-05-09</td>\n",
              "      <td>1 days</td>\n",
              "    </tr>\n",
              "    <tr>\n",
              "      <th>4</th>\n",
              "      <td>2020-05-09</td>\n",
              "      <td>LEISTUNG</td>\n",
              "      <td>RIO DE JANEIRO</td>\n",
              "      <td>ESTADO</td>\n",
              "      <td>UTI</td>\n",
              "      <td>6</td>\n",
              "      <td>360000.0</td>\n",
              "      <td>ALMOXARIFADO ESTADUAL DE MEDICAMENTOS - RIO DE...</td>\n",
              "      <td>RJ</td>\n",
              "      <td>2020-05-09</td>\n",
              "      <td>0 days</td>\n",
              "    </tr>\n",
              "  </tbody>\n",
              "</table>\n",
              "</div>"
            ],
            "text/plain": [
              "        DATA FORNECEDOR         DESTINO  ...  UF DATA DE ENTREGA  DELAY\n",
              "0 2020-04-19     VYAIRE  RIO DE JANEIRO  ...  RJ      2020-04-19 0 days\n",
              "1 2020-04-22     VYAIRE  RIO DE JANEIRO  ...  RJ      2020-04-23 1 days\n",
              "2 2020-05-08   MAGNAMED  RIO DE JANEIRO  ...  RJ      2020-05-09 1 days\n",
              "3 2020-05-08        KTK  RIO DE JANEIRO  ...  RJ      2020-05-09 1 days\n",
              "4 2020-05-09   LEISTUNG  RIO DE JANEIRO  ...  RJ      2020-05-09 0 days\n",
              "\n",
              "[5 rows x 11 columns]"
            ]
          },
          "metadata": {
            "tags": []
          },
          "execution_count": 38
        }
      ]
    },
    {
      "cell_type": "code",
      "metadata": {
        "id": "SbfmTC6Jl-by",
        "outputId": "95f7a762-cf13-4344-c6e2-719b68ad8a5f",
        "colab": {
          "base_uri": "https://localhost:8080/",
          "height": 277
        }
      },
      "source": [
        "df_delay.describe()"
      ],
      "execution_count": 39,
      "outputs": [
        {
          "output_type": "execute_result",
          "data": {
            "text/html": [
              "<div>\n",
              "<style scoped>\n",
              "    .dataframe tbody tr th:only-of-type {\n",
              "        vertical-align: middle;\n",
              "    }\n",
              "\n",
              "    .dataframe tbody tr th {\n",
              "        vertical-align: top;\n",
              "    }\n",
              "\n",
              "    .dataframe thead th {\n",
              "        text-align: right;\n",
              "    }\n",
              "</style>\n",
              "<table border=\"1\" class=\"dataframe\">\n",
              "  <thead>\n",
              "    <tr style=\"text-align: right;\">\n",
              "      <th></th>\n",
              "      <th>QUANTIDADE</th>\n",
              "      <th>VALOR</th>\n",
              "      <th>DELAY</th>\n",
              "    </tr>\n",
              "  </thead>\n",
              "  <tbody>\n",
              "    <tr>\n",
              "      <th>count</th>\n",
              "      <td>1644.000000</td>\n",
              "      <td>1.644000e+03</td>\n",
              "      <td>1644</td>\n",
              "    </tr>\n",
              "    <tr>\n",
              "      <th>mean</th>\n",
              "      <td>7.272506</td>\n",
              "      <td>3.797893e+05</td>\n",
              "      <td>5 days 08:00:52.554744525</td>\n",
              "    </tr>\n",
              "    <tr>\n",
              "      <th>std</th>\n",
              "      <td>13.743497</td>\n",
              "      <td>7.410215e+05</td>\n",
              "      <td>3 days 11:22:24.755114401</td>\n",
              "    </tr>\n",
              "    <tr>\n",
              "      <th>min</th>\n",
              "      <td>1.000000</td>\n",
              "      <td>2.000000e+04</td>\n",
              "      <td>0 days 00:00:00</td>\n",
              "    </tr>\n",
              "    <tr>\n",
              "      <th>25%</th>\n",
              "      <td>2.000000</td>\n",
              "      <td>6.000000e+04</td>\n",
              "      <td>3 days 00:00:00</td>\n",
              "    </tr>\n",
              "    <tr>\n",
              "      <th>50%</th>\n",
              "      <td>3.000000</td>\n",
              "      <td>1.448700e+05</td>\n",
              "      <td>5 days 00:00:00</td>\n",
              "    </tr>\n",
              "    <tr>\n",
              "      <th>75%</th>\n",
              "      <td>7.000000</td>\n",
              "      <td>3.600000e+05</td>\n",
              "      <td>7 days 00:00:00</td>\n",
              "    </tr>\n",
              "    <tr>\n",
              "      <th>max</th>\n",
              "      <td>300.000000</td>\n",
              "      <td>1.448700e+07</td>\n",
              "      <td>32 days 00:00:00</td>\n",
              "    </tr>\n",
              "  </tbody>\n",
              "</table>\n",
              "</div>"
            ],
            "text/plain": [
              "        QUANTIDADE         VALOR                      DELAY\n",
              "count  1644.000000  1.644000e+03                       1644\n",
              "mean      7.272506  3.797893e+05  5 days 08:00:52.554744525\n",
              "std      13.743497  7.410215e+05  3 days 11:22:24.755114401\n",
              "min       1.000000  2.000000e+04            0 days 00:00:00\n",
              "25%       2.000000  6.000000e+04            3 days 00:00:00\n",
              "50%       3.000000  1.448700e+05            5 days 00:00:00\n",
              "75%       7.000000  3.600000e+05            7 days 00:00:00\n",
              "max     300.000000  1.448700e+07           32 days 00:00:00"
            ]
          },
          "metadata": {
            "tags": []
          },
          "execution_count": 39
        }
      ]
    },
    {
      "cell_type": "code",
      "metadata": {
        "id": "BExwAVCJIHOK",
        "outputId": "55294715-caff-4067-c1bd-1cfabd4a2e06",
        "colab": {
          "base_uri": "https://localhost:8080/"
        }
      },
      "source": [
        "supp_by_state = df.groupby(by=['FORNECEDOR'])['QUANTIDADE'].sum()\n",
        "supp_by_state"
      ],
      "execution_count": null,
      "outputs": [
        {
          "output_type": "execute_result",
          "data": {
            "text/plain": [
              "FORNECEDOR\n",
              "KTK                                     1539\n",
              "KTK/VAYIRE                                 5\n",
              "L C DADDE COM AT INST MAT MEDICO EPP      20\n",
              "LEISTUNG                                1096\n",
              "LEISTUNG/VYAIRE                           20\n",
              "Leistung                                 100\n",
              "MAGNAMED                                4726\n",
              "MAGNAMED-REQUISIÇÃO                       30\n",
              "MAGNAMED/REQUISIÇÃO                       30\n",
              "SUZANO/Resmed                             10\n",
              "SUZANO/Zhongxun Medical                   10\n",
              "UTI                                        3\n",
              "VYAIRE                                  3372\n",
              "VYAIRE LTV 1200 USA                      200\n",
              "VYAIRE LTV 2200 USA                      350\n",
              "WEG                                      500\n",
              "Name: QUANTIDADE, dtype: int64"
            ]
          },
          "metadata": {
            "tags": []
          },
          "execution_count": 35
        }
      ]
    },
    {
      "cell_type": "code",
      "metadata": {
        "id": "HGDEpFkxIfd-",
        "outputId": "055652e4-a5a1-4a2d-f4c1-f3f7e468b382",
        "colab": {
          "base_uri": "https://localhost:8080/",
          "height": 366
        }
      },
      "source": [
        "mapper = {\"KTK/VAYIRE\":\"KTK\",\"LEISTUNG/VYAIRE\":\"LEISTUNG\",\"Leistung\":\"LEISTUNG\",\"MAGNAMED-REQUISIÇÃO\":\"MAGNAMED\",\n",
        "          \"MAGNAMED/REQUISIÇÃO\":\"MAGNAMED\",\"SUZANO/RESMED\":\"SUZANO\",\"SUZANO/Resmed\":\"SUZANO\",\"SUZANO/Zhongxun Medical\":\"SUZANO\",\n",
        "          \"VYAIRE LTV 1200 USA\":\"VYAIRE\", \"VYAIRE LTV 2200 USA\":\"VYAIRE\"}\n",
        "\n",
        "df_fornecedor = df.copy()\n",
        "df_fornecedor['FORNECEDOR'] = df_fornecedor['FORNECEDOR'].replace(mapper)\n",
        "df_fornecedor.tail()"
      ],
      "execution_count": null,
      "outputs": [
        {
          "output_type": "execute_result",
          "data": {
            "text/html": [
              "<div>\n",
              "<style scoped>\n",
              "    .dataframe tbody tr th:only-of-type {\n",
              "        vertical-align: middle;\n",
              "    }\n",
              "\n",
              "    .dataframe tbody tr th {\n",
              "        vertical-align: top;\n",
              "    }\n",
              "\n",
              "    .dataframe thead th {\n",
              "        text-align: right;\n",
              "    }\n",
              "</style>\n",
              "<table border=\"1\" class=\"dataframe\">\n",
              "  <thead>\n",
              "    <tr style=\"text-align: right;\">\n",
              "      <th></th>\n",
              "      <th>DATA</th>\n",
              "      <th>FORNECEDOR</th>\n",
              "      <th>DESTINO</th>\n",
              "      <th>ESTADO/MUNICIPIO</th>\n",
              "      <th>TIPO</th>\n",
              "      <th>QUANTIDADE</th>\n",
              "      <th>VALOR</th>\n",
              "      <th>DESTINATARIO</th>\n",
              "      <th>UF</th>\n",
              "      <th>DATA DE ENTREGA</th>\n",
              "    </tr>\n",
              "  </thead>\n",
              "  <tbody>\n",
              "    <tr>\n",
              "      <th>1642</th>\n",
              "      <td>24/09/2020</td>\n",
              "      <td>VYAIRE</td>\n",
              "      <td>PARANA</td>\n",
              "      <td>MUNICIPIO</td>\n",
              "      <td>TRANSPORTE USA</td>\n",
              "      <td>1</td>\n",
              "      <td>63125.97</td>\n",
              "      <td>SMS de GUAIRA</td>\n",
              "      <td>PR</td>\n",
              "      <td>28/09/2020</td>\n",
              "    </tr>\n",
              "    <tr>\n",
              "      <th>1643</th>\n",
              "      <td>08/10/2020</td>\n",
              "      <td>VYAIRE</td>\n",
              "      <td>PARANA</td>\n",
              "      <td>ESTADO</td>\n",
              "      <td>TRANSPORTE USA</td>\n",
              "      <td>20</td>\n",
              "      <td>1262519.40</td>\n",
              "      <td>5o Batalhao de Suprimento</td>\n",
              "      <td>PR</td>\n",
              "      <td>17/10/2020</td>\n",
              "    </tr>\n",
              "    <tr>\n",
              "      <th>1644</th>\n",
              "      <td>08/10/2020</td>\n",
              "      <td>MAGNAMED</td>\n",
              "      <td>PARANA</td>\n",
              "      <td>ESTADO</td>\n",
              "      <td>UTI</td>\n",
              "      <td>4</td>\n",
              "      <td>240000.00</td>\n",
              "      <td>5o Batalhao de Suprimento</td>\n",
              "      <td>PR</td>\n",
              "      <td>17/10/2020</td>\n",
              "    </tr>\n",
              "    <tr>\n",
              "      <th>1645</th>\n",
              "      <td>16/10/2020</td>\n",
              "      <td>MAGNAMED</td>\n",
              "      <td>PARANA</td>\n",
              "      <td>MUNICIPIO</td>\n",
              "      <td>UTI</td>\n",
              "      <td>1</td>\n",
              "      <td>60000.00</td>\n",
              "      <td>SMS de WENCESLAU BRAZ</td>\n",
              "      <td>PR</td>\n",
              "      <td>21/10/2020</td>\n",
              "    </tr>\n",
              "    <tr>\n",
              "      <th>1646</th>\n",
              "      <td>07/08/2020</td>\n",
              "      <td>MAGNAMED</td>\n",
              "      <td>LIBANO</td>\n",
              "      <td>-</td>\n",
              "      <td>TRANSPORTE</td>\n",
              "      <td>300</td>\n",
              "      <td>14487000.00</td>\n",
              "      <td>MISSÃO FAB (Doação Destino ao Libano).</td>\n",
              "      <td>-</td>\n",
              "      <td>08/08/2020</td>\n",
              "    </tr>\n",
              "  </tbody>\n",
              "</table>\n",
              "</div>"
            ],
            "text/plain": [
              "            DATA FORNECEDOR  ...  UF DATA DE ENTREGA\n",
              "1642  24/09/2020     VYAIRE  ...  PR      28/09/2020\n",
              "1643  08/10/2020     VYAIRE  ...  PR      17/10/2020\n",
              "1644  08/10/2020   MAGNAMED  ...  PR      17/10/2020\n",
              "1645  16/10/2020   MAGNAMED  ...  PR      21/10/2020\n",
              "1646  07/08/2020   MAGNAMED  ...   -      08/08/2020\n",
              "\n",
              "[5 rows x 10 columns]"
            ]
          },
          "metadata": {
            "tags": []
          },
          "execution_count": 111
        }
      ]
    },
    {
      "cell_type": "code",
      "metadata": {
        "id": "E1CUUA-eLmtj",
        "outputId": "2829bb82-0cb1-4fb2-d56f-482b13c07f2b",
        "colab": {
          "base_uri": "https://localhost:8080/"
        }
      },
      "source": [
        "equip_by_supp = df_fornecedor.groupby(by=['FORNECEDOR'])['QUANTIDADE'].sum()\n",
        "equip_by_supp"
      ],
      "execution_count": null,
      "outputs": [
        {
          "output_type": "execute_result",
          "data": {
            "text/plain": [
              "FORNECEDOR\n",
              "KTK                                     1544\n",
              "L C DADDE COM AT INST MAT MEDICO EPP      20\n",
              "LEISTUNG                                1216\n",
              "MAGNAMED                                4786\n",
              "SUZANO                                    20\n",
              "UTI                                        3\n",
              "VYAIRE                                  3922\n",
              "WEG                                      500\n",
              "Name: QUANTIDADE, dtype: int64"
            ]
          },
          "metadata": {
            "tags": []
          },
          "execution_count": 113
        }
      ]
    }
  ]
}