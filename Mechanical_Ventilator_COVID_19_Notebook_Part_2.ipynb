{
  "nbformat": 4,
  "nbformat_minor": 0,
  "metadata": {
    "colab": {
      "name": "Mechanical Ventilator COVID-19 Notebook - Part 2.ipynb",
      "provenance": [],
      "collapsed_sections": [],
      "toc_visible": true,
      "authorship_tag": "ABX9TyMKkIIoEoO04KMxho+PSF8r",
      "include_colab_link": true
    },
    "kernelspec": {
      "name": "python3",
      "display_name": "Python 3"
    }
  },
  "cells": [
    {
      "cell_type": "markdown",
      "metadata": {
        "id": "view-in-github",
        "colab_type": "text"
      },
      "source": [
        "<a href=\"https://colab.research.google.com/github/marcogemaque/COVID-19-Breathers/blob/main/Mechanical_Ventilator_COVID_19_Notebook_Part_2.ipynb\" target=\"_parent\"><img src=\"https://colab.research.google.com/assets/colab-badge.svg\" alt=\"Open In Colab\"/></a>"
      ]
    },
    {
      "cell_type": "markdown",
      "metadata": {
        "id": "frZo9CBUYqMH"
      },
      "source": [
        "#**A Duck's Dream**"
      ]
    },
    {
      "cell_type": "markdown",
      "metadata": {
        "id": "fdjUBXzIYsZO"
      },
      "source": [
        "### **Breathers on COVID-19 - Wrangling**"
      ]
    },
    {
      "cell_type": "code",
      "metadata": {
        "id": "0LKGOjMfZcHg"
      },
      "source": [
        "import pandas as pd\n",
        "import numpy as np\n",
        "import matplotlib.pyplot as plt\n",
        "import seaborn as sns\n",
        "import re"
      ],
      "execution_count": 1,
      "outputs": []
    },
    {
      "cell_type": "code",
      "metadata": {
        "id": "AiggJBBvY_hf",
        "outputId": "4aa406c8-747e-4169-c048-b7b8718e5992",
        "colab": {
          "base_uri": "https://localhost:8080/"
        }
      },
      "source": [
        "from google.colab import drive\n",
        "drive.mount('/content/drive')"
      ],
      "execution_count": 2,
      "outputs": [
        {
          "output_type": "stream",
          "text": [
            "Mounted at /content/drive\n"
          ],
          "name": "stdout"
        }
      ]
    },
    {
      "cell_type": "code",
      "metadata": {
        "id": "X5WZYi1FZVsx"
      },
      "source": [
        "df_real = pd.read_csv(\"/content/drive/My Drive/A Duck's Dream/distribuicao_respiradores.csv\", sep=';')"
      ],
      "execution_count": 3,
      "outputs": []
    },
    {
      "cell_type": "code",
      "metadata": {
        "id": "iiKRFfy6Z4Sg",
        "outputId": "aa5c3ecf-e4e3-497a-8d18-fc7e7dcc0653",
        "colab": {
          "base_uri": "https://localhost:8080/",
          "height": 202
        }
      },
      "source": [
        "df = df_real.copy()\n",
        "df.head()"
      ],
      "execution_count": 4,
      "outputs": [
        {
          "output_type": "execute_result",
          "data": {
            "text/html": [
              "<div>\n",
              "<style scoped>\n",
              "    .dataframe tbody tr th:only-of-type {\n",
              "        vertical-align: middle;\n",
              "    }\n",
              "\n",
              "    .dataframe tbody tr th {\n",
              "        vertical-align: top;\n",
              "    }\n",
              "\n",
              "    .dataframe thead th {\n",
              "        text-align: right;\n",
              "    }\n",
              "</style>\n",
              "<table border=\"1\" class=\"dataframe\">\n",
              "  <thead>\n",
              "    <tr style=\"text-align: right;\">\n",
              "      <th></th>\n",
              "      <th>DATA</th>\n",
              "      <th>FORNECEDOR</th>\n",
              "      <th>DESTINO</th>\n",
              "      <th>ESTADO/MUNICIPIO</th>\n",
              "      <th>TIPO</th>\n",
              "      <th>QUANTIDADE</th>\n",
              "      <th>VALOR</th>\n",
              "      <th>DESTINATARIO</th>\n",
              "      <th>UF</th>\n",
              "      <th>DATA DE ENTREGA</th>\n",
              "    </tr>\n",
              "  </thead>\n",
              "  <tbody>\n",
              "    <tr>\n",
              "      <th>0</th>\n",
              "      <td>19/04/2020</td>\n",
              "      <td>VYAIRE</td>\n",
              "      <td>RIO DE JANEIRO</td>\n",
              "      <td>ESTADO</td>\n",
              "      <td>UTI</td>\n",
              "      <td>40</td>\n",
              "      <td>2400000,00</td>\n",
              "      <td>ALMOXARIFADO ESTADUAL DE MEDICAMENTOS - RIO DE...</td>\n",
              "      <td>RJ</td>\n",
              "      <td>19/04/2020</td>\n",
              "    </tr>\n",
              "    <tr>\n",
              "      <th>1</th>\n",
              "      <td>22/04/2020</td>\n",
              "      <td>VYAIRE</td>\n",
              "      <td>RIO DE JANEIRO</td>\n",
              "      <td>ESTADO</td>\n",
              "      <td>UTI</td>\n",
              "      <td>20</td>\n",
              "      <td>1200000,00</td>\n",
              "      <td>LABORATÓRIO QUÍMICO FARMACÊUTICO DE AERONÁUTICA</td>\n",
              "      <td>RJ</td>\n",
              "      <td>23/04/2020</td>\n",
              "    </tr>\n",
              "    <tr>\n",
              "      <th>2</th>\n",
              "      <td>08/05/2020</td>\n",
              "      <td>MAGNAMED</td>\n",
              "      <td>RIO DE JANEIRO</td>\n",
              "      <td>ESTADO</td>\n",
              "      <td>UTI</td>\n",
              "      <td>25</td>\n",
              "      <td>1500000,00</td>\n",
              "      <td>ALMOXARIFADO ESTADUAL DE MEDICAMENTOS - RIO DE...</td>\n",
              "      <td>RJ</td>\n",
              "      <td>09/05/2020</td>\n",
              "    </tr>\n",
              "    <tr>\n",
              "      <th>3</th>\n",
              "      <td>08/05/2020</td>\n",
              "      <td>KTK</td>\n",
              "      <td>RIO DE JANEIRO</td>\n",
              "      <td>ESTADO</td>\n",
              "      <td>UTI</td>\n",
              "      <td>15</td>\n",
              "      <td>900000,00</td>\n",
              "      <td>ALMOXARIFADO ESTADUAL DE MEDICAMENTOS - RIO DE...</td>\n",
              "      <td>RJ</td>\n",
              "      <td>09/05/2020</td>\n",
              "    </tr>\n",
              "    <tr>\n",
              "      <th>4</th>\n",
              "      <td>09/05/2020</td>\n",
              "      <td>LEISTUNG</td>\n",
              "      <td>RIO DE JANEIRO</td>\n",
              "      <td>ESTADO</td>\n",
              "      <td>UTI</td>\n",
              "      <td>6</td>\n",
              "      <td>360000,00</td>\n",
              "      <td>ALMOXARIFADO ESTADUAL DE MEDICAMENTOS - RIO DE...</td>\n",
              "      <td>RJ</td>\n",
              "      <td>09/05/2020</td>\n",
              "    </tr>\n",
              "  </tbody>\n",
              "</table>\n",
              "</div>"
            ],
            "text/plain": [
              "         DATA FORNECEDOR  ...  UF DATA DE ENTREGA\n",
              "0  19/04/2020     VYAIRE  ...  RJ      19/04/2020\n",
              "1  22/04/2020     VYAIRE  ...  RJ      23/04/2020\n",
              "2  08/05/2020   MAGNAMED  ...  RJ      09/05/2020\n",
              "3  08/05/2020        KTK  ...  RJ      09/05/2020\n",
              "4  09/05/2020   LEISTUNG  ...  RJ      09/05/2020\n",
              "\n",
              "[5 rows x 10 columns]"
            ]
          },
          "metadata": {
            "tags": []
          },
          "execution_count": 4
        }
      ]
    },
    {
      "cell_type": "code",
      "metadata": {
        "id": "Pzj1ZFCPaCIP",
        "outputId": "422272f3-0f71-46ef-e946-6e894f48f7d9",
        "colab": {
          "base_uri": "https://localhost:8080/"
        }
      },
      "source": [
        "df.info()"
      ],
      "execution_count": 5,
      "outputs": [
        {
          "output_type": "stream",
          "text": [
            "<class 'pandas.core.frame.DataFrame'>\n",
            "RangeIndex: 1647 entries, 0 to 1646\n",
            "Data columns (total 10 columns):\n",
            " #   Column            Non-Null Count  Dtype \n",
            "---  ------            --------------  ----- \n",
            " 0   DATA              1647 non-null   object\n",
            " 1   FORNECEDOR        1647 non-null   object\n",
            " 2   DESTINO           1647 non-null   object\n",
            " 3   ESTADO/MUNICIPIO  1647 non-null   object\n",
            " 4   TIPO              1647 non-null   object\n",
            " 5   QUANTIDADE        1647 non-null   int64 \n",
            " 6   VALOR             1647 non-null   object\n",
            " 7   DESTINATARIO      1647 non-null   object\n",
            " 8   UF                1647 non-null   object\n",
            " 9   DATA DE ENTREGA   1647 non-null   object\n",
            "dtypes: int64(1), object(9)\n",
            "memory usage: 128.8+ KB\n"
          ],
          "name": "stdout"
        }
      ]
    },
    {
      "cell_type": "code",
      "metadata": {
        "id": "c7BvMv2_PaiX",
        "outputId": "2b5806c4-eb24-4dc7-e5e9-a529a1671667",
        "colab": {
          "base_uri": "https://localhost:8080/",
          "height": 202
        }
      },
      "source": [
        "df['VALOR'] = df['VALOR'].str.replace(',','.')\n",
        "df['VALOR'] = pd.to_numeric(df['VALOR'], errors='coerce')\n",
        "df.tail()"
      ],
      "execution_count": 6,
      "outputs": [
        {
          "output_type": "execute_result",
          "data": {
            "text/html": [
              "<div>\n",
              "<style scoped>\n",
              "    .dataframe tbody tr th:only-of-type {\n",
              "        vertical-align: middle;\n",
              "    }\n",
              "\n",
              "    .dataframe tbody tr th {\n",
              "        vertical-align: top;\n",
              "    }\n",
              "\n",
              "    .dataframe thead th {\n",
              "        text-align: right;\n",
              "    }\n",
              "</style>\n",
              "<table border=\"1\" class=\"dataframe\">\n",
              "  <thead>\n",
              "    <tr style=\"text-align: right;\">\n",
              "      <th></th>\n",
              "      <th>DATA</th>\n",
              "      <th>FORNECEDOR</th>\n",
              "      <th>DESTINO</th>\n",
              "      <th>ESTADO/MUNICIPIO</th>\n",
              "      <th>TIPO</th>\n",
              "      <th>QUANTIDADE</th>\n",
              "      <th>VALOR</th>\n",
              "      <th>DESTINATARIO</th>\n",
              "      <th>UF</th>\n",
              "      <th>DATA DE ENTREGA</th>\n",
              "    </tr>\n",
              "  </thead>\n",
              "  <tbody>\n",
              "    <tr>\n",
              "      <th>1642</th>\n",
              "      <td>24/09/2020</td>\n",
              "      <td>VYAIRE LTV 2200 USA</td>\n",
              "      <td>PARANA</td>\n",
              "      <td>MUNICIPIO</td>\n",
              "      <td>TRANSPORTE USA</td>\n",
              "      <td>1</td>\n",
              "      <td>63125.97</td>\n",
              "      <td>SMS de GUAIRA</td>\n",
              "      <td>PR</td>\n",
              "      <td>28/09/2020</td>\n",
              "    </tr>\n",
              "    <tr>\n",
              "      <th>1643</th>\n",
              "      <td>08/10/2020</td>\n",
              "      <td>VYAIRE LTV 2200 USA</td>\n",
              "      <td>PARANA</td>\n",
              "      <td>ESTADO</td>\n",
              "      <td>TRANSPORTE USA</td>\n",
              "      <td>20</td>\n",
              "      <td>1262519.40</td>\n",
              "      <td>5o Batalhao de Suprimento</td>\n",
              "      <td>PR</td>\n",
              "      <td>17/10/2020</td>\n",
              "    </tr>\n",
              "    <tr>\n",
              "      <th>1644</th>\n",
              "      <td>08/10/2020</td>\n",
              "      <td>MAGNAMED</td>\n",
              "      <td>PARANA</td>\n",
              "      <td>ESTADO</td>\n",
              "      <td>UTI</td>\n",
              "      <td>4</td>\n",
              "      <td>240000.00</td>\n",
              "      <td>5o Batalhao de Suprimento</td>\n",
              "      <td>PR</td>\n",
              "      <td>17/10/2020</td>\n",
              "    </tr>\n",
              "    <tr>\n",
              "      <th>1645</th>\n",
              "      <td>16/10/2020</td>\n",
              "      <td>MAGNAMED</td>\n",
              "      <td>PARANA</td>\n",
              "      <td>MUNICIPIO</td>\n",
              "      <td>UTI</td>\n",
              "      <td>1</td>\n",
              "      <td>60000.00</td>\n",
              "      <td>SMS de WENCESLAU BRAZ</td>\n",
              "      <td>PR</td>\n",
              "      <td>21/10/2020</td>\n",
              "    </tr>\n",
              "    <tr>\n",
              "      <th>1646</th>\n",
              "      <td>07/08/2020</td>\n",
              "      <td>MAGNAMED</td>\n",
              "      <td>LIBANO</td>\n",
              "      <td>-</td>\n",
              "      <td>TRANSPORTE</td>\n",
              "      <td>300</td>\n",
              "      <td>14487000.00</td>\n",
              "      <td>MISSÃO FAB (Doação Destino ao Libano).</td>\n",
              "      <td>-</td>\n",
              "      <td>08/08/2020</td>\n",
              "    </tr>\n",
              "  </tbody>\n",
              "</table>\n",
              "</div>"
            ],
            "text/plain": [
              "            DATA           FORNECEDOR  ...  UF DATA DE ENTREGA\n",
              "1642  24/09/2020  VYAIRE LTV 2200 USA  ...  PR      28/09/2020\n",
              "1643  08/10/2020  VYAIRE LTV 2200 USA  ...  PR      17/10/2020\n",
              "1644  08/10/2020             MAGNAMED  ...  PR      17/10/2020\n",
              "1645  16/10/2020             MAGNAMED  ...  PR      21/10/2020\n",
              "1646  07/08/2020             MAGNAMED  ...   -      08/08/2020\n",
              "\n",
              "[5 rows x 10 columns]"
            ]
          },
          "metadata": {
            "tags": []
          },
          "execution_count": 6
        }
      ]
    },
    {
      "cell_type": "code",
      "metadata": {
        "id": "o4sePyJymVaQ",
        "outputId": "baeb1ceb-c418-4f8d-f449-d5c2fc0929db",
        "colab": {
          "base_uri": "https://localhost:8080/"
        }
      },
      "source": [
        "df.info()"
      ],
      "execution_count": 7,
      "outputs": [
        {
          "output_type": "stream",
          "text": [
            "<class 'pandas.core.frame.DataFrame'>\n",
            "RangeIndex: 1647 entries, 0 to 1646\n",
            "Data columns (total 10 columns):\n",
            " #   Column            Non-Null Count  Dtype  \n",
            "---  ------            --------------  -----  \n",
            " 0   DATA              1647 non-null   object \n",
            " 1   FORNECEDOR        1647 non-null   object \n",
            " 2   DESTINO           1647 non-null   object \n",
            " 3   ESTADO/MUNICIPIO  1647 non-null   object \n",
            " 4   TIPO              1647 non-null   object \n",
            " 5   QUANTIDADE        1647 non-null   int64  \n",
            " 6   VALOR             1647 non-null   float64\n",
            " 7   DESTINATARIO      1647 non-null   object \n",
            " 8   UF                1647 non-null   object \n",
            " 9   DATA DE ENTREGA   1647 non-null   object \n",
            "dtypes: float64(1), int64(1), object(8)\n",
            "memory usage: 128.8+ KB\n"
          ],
          "name": "stdout"
        }
      ]
    },
    {
      "cell_type": "code",
      "metadata": {
        "id": "eA3RwcqmZHbb",
        "outputId": "dcb45b67-2492-44c1-b776-364087921389",
        "colab": {
          "base_uri": "https://localhost:8080/"
        }
      },
      "source": [
        "df_date = df['DATA'].str.contains('[0-9]{2}.[0-9]{2}.[0-9]{4}')\n",
        "df_date = df_date.loc[df_date == False]\n",
        "df_date"
      ],
      "execution_count": 8,
      "outputs": [
        {
          "output_type": "execute_result",
          "data": {
            "text/plain": [
              "300     False\n",
              "837     False\n",
              "1503    False\n",
              "Name: DATA, dtype: bool"
            ]
          },
          "metadata": {
            "tags": []
          },
          "execution_count": 8
        }
      ]
    },
    {
      "cell_type": "code",
      "metadata": {
        "id": "cdGE8SXeemB1",
        "outputId": "fdeebd7f-d2e2-4259-93d0-c976e5700db1",
        "colab": {
          "base_uri": "https://localhost:8080/",
          "height": 141
        }
      },
      "source": [
        "sel = df.iloc[[300, 837, 1503]]\n",
        "sel"
      ],
      "execution_count": 9,
      "outputs": [
        {
          "output_type": "execute_result",
          "data": {
            "text/html": [
              "<div>\n",
              "<style scoped>\n",
              "    .dataframe tbody tr th:only-of-type {\n",
              "        vertical-align: middle;\n",
              "    }\n",
              "\n",
              "    .dataframe tbody tr th {\n",
              "        vertical-align: top;\n",
              "    }\n",
              "\n",
              "    .dataframe thead th {\n",
              "        text-align: right;\n",
              "    }\n",
              "</style>\n",
              "<table border=\"1\" class=\"dataframe\">\n",
              "  <thead>\n",
              "    <tr style=\"text-align: right;\">\n",
              "      <th></th>\n",
              "      <th>DATA</th>\n",
              "      <th>FORNECEDOR</th>\n",
              "      <th>DESTINO</th>\n",
              "      <th>ESTADO/MUNICIPIO</th>\n",
              "      <th>TIPO</th>\n",
              "      <th>QUANTIDADE</th>\n",
              "      <th>VALOR</th>\n",
              "      <th>DESTINATARIO</th>\n",
              "      <th>UF</th>\n",
              "      <th>DATA DE ENTREGA</th>\n",
              "    </tr>\n",
              "  </thead>\n",
              "  <tbody>\n",
              "    <tr>\n",
              "      <th>300</th>\n",
              "      <td>ESTADO</td>\n",
              "      <td>WEG</td>\n",
              "      <td>DISTRITO FEDERAL</td>\n",
              "      <td>ESTADO</td>\n",
              "      <td>UTI</td>\n",
              "      <td>25</td>\n",
              "      <td>1500000.0</td>\n",
              "      <td>Secretaria Estadual de Saúde</td>\n",
              "      <td>DF</td>\n",
              "      <td>10/06/2020</td>\n",
              "    </tr>\n",
              "    <tr>\n",
              "      <th>837</th>\n",
              "      <td>2020-04-30 00:00:00</td>\n",
              "      <td>LEISTUNG</td>\n",
              "      <td>PARA</td>\n",
              "      <td>ESTADO</td>\n",
              "      <td>UTI</td>\n",
              "      <td>60</td>\n",
              "      <td>3600000.0</td>\n",
              "      <td>Secretaria Estadual de Saúde</td>\n",
              "      <td>PA</td>\n",
              "      <td>31/04/2020</td>\n",
              "    </tr>\n",
              "    <tr>\n",
              "      <th>1503</th>\n",
              "      <td>16/10/M2020</td>\n",
              "      <td>MAGNAMED</td>\n",
              "      <td>RIO GRANDE DO SUL</td>\n",
              "      <td>MUNICIPIO</td>\n",
              "      <td>UTI</td>\n",
              "      <td>1</td>\n",
              "      <td>60000.0</td>\n",
              "      <td>SECR MUN DE SAUDE DE MUCUM  RS</td>\n",
              "      <td>RS</td>\n",
              "      <td>21/10/2020</td>\n",
              "    </tr>\n",
              "  </tbody>\n",
              "</table>\n",
              "</div>"
            ],
            "text/plain": [
              "                     DATA FORNECEDOR  ...  UF DATA DE ENTREGA\n",
              "300                ESTADO        WEG  ...  DF      10/06/2020\n",
              "837   2020-04-30 00:00:00   LEISTUNG  ...  PA      31/04/2020\n",
              "1503          16/10/M2020   MAGNAMED  ...  RS      21/10/2020\n",
              "\n",
              "[3 rows x 10 columns]"
            ]
          },
          "metadata": {
            "tags": []
          },
          "execution_count": 9
        }
      ]
    },
    {
      "cell_type": "code",
      "metadata": {
        "id": "gywlEOcPeze1"
      },
      "source": [
        "#One way to do it\n",
        "df.at[837,'DATA'] = '30/04/2020'\n",
        "df.at[1503,'DATA'] = '16/10/2020'"
      ],
      "execution_count": 10,
      "outputs": []
    },
    {
      "cell_type": "code",
      "metadata": {
        "id": "A7HX-QO2hBxS",
        "outputId": "8de8a323-e801-4570-e77d-ce8f40241599",
        "colab": {
          "base_uri": "https://localhost:8080/"
        }
      },
      "source": [
        "df_date = df['DATA DE ENTREGA'].str.contains('[0-9]{2}.[0-9]{2}.[0-9]{4}')\n",
        "df_date = df_date.loc[df_date == False]\n",
        "df_date"
      ],
      "execution_count": 11,
      "outputs": [
        {
          "output_type": "execute_result",
          "data": {
            "text/plain": [
              "Series([], Name: DATA DE ENTREGA, dtype: bool)"
            ]
          },
          "metadata": {
            "tags": []
          },
          "execution_count": 11
        }
      ]
    },
    {
      "cell_type": "code",
      "metadata": {
        "id": "Ab4CgWtm2WTr",
        "outputId": "67e95cb4-db2f-4408-d043-304b699dad28",
        "colab": {
          "base_uri": "https://localhost:8080/"
        }
      },
      "source": [
        "df_date = pd.to_datetime(df['DATA DE ENTREGA'], errors='coerce')\n",
        "error = df_date.loc[df_date.isnull()]\n",
        "error"
      ],
      "execution_count": 12,
      "outputs": [
        {
          "output_type": "execute_result",
          "data": {
            "text/plain": [
              "837   NaT\n",
              "Name: DATA DE ENTREGA, dtype: datetime64[ns]"
            ]
          },
          "metadata": {
            "tags": []
          },
          "execution_count": 12
        }
      ]
    },
    {
      "cell_type": "code",
      "metadata": {
        "id": "P9Tdqo77iUZY",
        "outputId": "27e67201-670d-4ec2-f3a2-9fb491534524",
        "colab": {
          "base_uri": "https://localhost:8080/",
          "height": 80
        }
      },
      "source": [
        "df.loc[[837]]"
      ],
      "execution_count": 13,
      "outputs": [
        {
          "output_type": "execute_result",
          "data": {
            "text/html": [
              "<div>\n",
              "<style scoped>\n",
              "    .dataframe tbody tr th:only-of-type {\n",
              "        vertical-align: middle;\n",
              "    }\n",
              "\n",
              "    .dataframe tbody tr th {\n",
              "        vertical-align: top;\n",
              "    }\n",
              "\n",
              "    .dataframe thead th {\n",
              "        text-align: right;\n",
              "    }\n",
              "</style>\n",
              "<table border=\"1\" class=\"dataframe\">\n",
              "  <thead>\n",
              "    <tr style=\"text-align: right;\">\n",
              "      <th></th>\n",
              "      <th>DATA</th>\n",
              "      <th>FORNECEDOR</th>\n",
              "      <th>DESTINO</th>\n",
              "      <th>ESTADO/MUNICIPIO</th>\n",
              "      <th>TIPO</th>\n",
              "      <th>QUANTIDADE</th>\n",
              "      <th>VALOR</th>\n",
              "      <th>DESTINATARIO</th>\n",
              "      <th>UF</th>\n",
              "      <th>DATA DE ENTREGA</th>\n",
              "    </tr>\n",
              "  </thead>\n",
              "  <tbody>\n",
              "    <tr>\n",
              "      <th>837</th>\n",
              "      <td>30/04/2020</td>\n",
              "      <td>LEISTUNG</td>\n",
              "      <td>PARA</td>\n",
              "      <td>ESTADO</td>\n",
              "      <td>UTI</td>\n",
              "      <td>60</td>\n",
              "      <td>3600000.0</td>\n",
              "      <td>Secretaria Estadual de Saúde</td>\n",
              "      <td>PA</td>\n",
              "      <td>31/04/2020</td>\n",
              "    </tr>\n",
              "  </tbody>\n",
              "</table>\n",
              "</div>"
            ],
            "text/plain": [
              "           DATA FORNECEDOR  ...  UF DATA DE ENTREGA\n",
              "837  30/04/2020   LEISTUNG  ...  PA      31/04/2020\n",
              "\n",
              "[1 rows x 10 columns]"
            ]
          },
          "metadata": {
            "tags": []
          },
          "execution_count": 13
        }
      ]
    },
    {
      "cell_type": "code",
      "metadata": {
        "id": "NgoH-T0Dj8LY"
      },
      "source": [
        "df.at[837,'DATA DE ENTREGA'] = '01/05/2020'"
      ],
      "execution_count": 14,
      "outputs": []
    },
    {
      "cell_type": "code",
      "metadata": {
        "id": "Mu_IWiiWDIUn",
        "outputId": "e3bbe6f5-155f-47b6-b0d0-5ecebfd8154d",
        "colab": {
          "base_uri": "https://localhost:8080/",
          "height": 202
        }
      },
      "source": [
        "#Create a dataframe that excludes our broken data for calculating delay\n",
        "df_delay = df.copy()\n",
        "df_delay = df_delay.drop([300],axis=0)\n",
        "df_delay['DATA DE ENTREGA'] = pd.to_datetime(df_delay['DATA DE ENTREGA'], format=\"%d/%m/%Y\")\n",
        "df_delay['DATA'] = pd.to_datetime(df_delay['DATA'], format=\"%d/%m/%Y\")\n",
        "df_delay['DELAY'] = df_delay['DATA DE ENTREGA'] - df_delay['DATA']\n",
        "sorted = df_delay.sort_values(by='DELAY')\n",
        "sorted.head()"
      ],
      "execution_count": 15,
      "outputs": [
        {
          "output_type": "execute_result",
          "data": {
            "text/html": [
              "<div>\n",
              "<style scoped>\n",
              "    .dataframe tbody tr th:only-of-type {\n",
              "        vertical-align: middle;\n",
              "    }\n",
              "\n",
              "    .dataframe tbody tr th {\n",
              "        vertical-align: top;\n",
              "    }\n",
              "\n",
              "    .dataframe thead th {\n",
              "        text-align: right;\n",
              "    }\n",
              "</style>\n",
              "<table border=\"1\" class=\"dataframe\">\n",
              "  <thead>\n",
              "    <tr style=\"text-align: right;\">\n",
              "      <th></th>\n",
              "      <th>DATA</th>\n",
              "      <th>FORNECEDOR</th>\n",
              "      <th>DESTINO</th>\n",
              "      <th>ESTADO/MUNICIPIO</th>\n",
              "      <th>TIPO</th>\n",
              "      <th>QUANTIDADE</th>\n",
              "      <th>VALOR</th>\n",
              "      <th>DESTINATARIO</th>\n",
              "      <th>UF</th>\n",
              "      <th>DATA DE ENTREGA</th>\n",
              "      <th>DELAY</th>\n",
              "    </tr>\n",
              "  </thead>\n",
              "  <tbody>\n",
              "    <tr>\n",
              "      <th>829</th>\n",
              "      <td>2020-06-02</td>\n",
              "      <td>MAGNAMED</td>\n",
              "      <td>RORAIMA</td>\n",
              "      <td>ESTADO</td>\n",
              "      <td>TRANSPORTE</td>\n",
              "      <td>15</td>\n",
              "      <td>724350.0</td>\n",
              "      <td>Secretaria Estadual de Saúde</td>\n",
              "      <td>RR</td>\n",
              "      <td>2020-04-01</td>\n",
              "      <td>-62 days</td>\n",
              "    </tr>\n",
              "    <tr>\n",
              "      <th>828</th>\n",
              "      <td>2020-06-02</td>\n",
              "      <td>VYAIRE</td>\n",
              "      <td>RORAIMA</td>\n",
              "      <td>ESTADO</td>\n",
              "      <td>UTI</td>\n",
              "      <td>15</td>\n",
              "      <td>900000.0</td>\n",
              "      <td>Secretaria Estadual de Saúde</td>\n",
              "      <td>RR</td>\n",
              "      <td>2020-04-01</td>\n",
              "      <td>-62 days</td>\n",
              "    </tr>\n",
              "    <tr>\n",
              "      <th>0</th>\n",
              "      <td>2020-04-19</td>\n",
              "      <td>VYAIRE</td>\n",
              "      <td>RIO DE JANEIRO</td>\n",
              "      <td>ESTADO</td>\n",
              "      <td>UTI</td>\n",
              "      <td>40</td>\n",
              "      <td>2400000.0</td>\n",
              "      <td>ALMOXARIFADO ESTADUAL DE MEDICAMENTOS - RIO DE...</td>\n",
              "      <td>RJ</td>\n",
              "      <td>2020-04-19</td>\n",
              "      <td>0 days</td>\n",
              "    </tr>\n",
              "    <tr>\n",
              "      <th>1299</th>\n",
              "      <td>2020-06-25</td>\n",
              "      <td>KTK</td>\n",
              "      <td>SÃO PAULO</td>\n",
              "      <td>ESTADO</td>\n",
              "      <td>UTI</td>\n",
              "      <td>10</td>\n",
              "      <td>600000.0</td>\n",
              "      <td>Secretaria Estadual de Saúde</td>\n",
              "      <td>SP</td>\n",
              "      <td>2020-06-25</td>\n",
              "      <td>0 days</td>\n",
              "    </tr>\n",
              "    <tr>\n",
              "      <th>29</th>\n",
              "      <td>2020-06-08</td>\n",
              "      <td>KTK</td>\n",
              "      <td>RIO DE JANEIRO</td>\n",
              "      <td>ESTADO</td>\n",
              "      <td>TRANSPORTE</td>\n",
              "      <td>50</td>\n",
              "      <td>1000000.0</td>\n",
              "      <td>ALMOXARIFADO ESTADUAL DE MEDICAMENTOS - RIO DE...</td>\n",
              "      <td>RJ</td>\n",
              "      <td>2020-06-08</td>\n",
              "      <td>0 days</td>\n",
              "    </tr>\n",
              "  </tbody>\n",
              "</table>\n",
              "</div>"
            ],
            "text/plain": [
              "           DATA FORNECEDOR         DESTINO  ...  UF DATA DE ENTREGA    DELAY\n",
              "829  2020-06-02   MAGNAMED         RORAIMA  ...  RR      2020-04-01 -62 days\n",
              "828  2020-06-02     VYAIRE         RORAIMA  ...  RR      2020-04-01 -62 days\n",
              "0    2020-04-19     VYAIRE  RIO DE JANEIRO  ...  RJ      2020-04-19   0 days\n",
              "1299 2020-06-25        KTK       SÃO PAULO  ...  SP      2020-06-25   0 days\n",
              "29   2020-06-08        KTK  RIO DE JANEIRO  ...  RJ      2020-06-08   0 days\n",
              "\n",
              "[5 rows x 11 columns]"
            ]
          },
          "metadata": {
            "tags": []
          },
          "execution_count": 15
        }
      ]
    },
    {
      "cell_type": "code",
      "metadata": {
        "id": "QiSO6z1xHS4v",
        "outputId": "b2d005e2-bb06-4000-d10c-6d2469a865bf",
        "colab": {
          "base_uri": "https://localhost:8080/",
          "height": 202
        }
      },
      "source": [
        "#Exclude the shitty columns 829 and 828\n",
        "df_delay = df_delay.drop([828,829], axis=0)\n",
        "df_delay.head()"
      ],
      "execution_count": 16,
      "outputs": [
        {
          "output_type": "execute_result",
          "data": {
            "text/html": [
              "<div>\n",
              "<style scoped>\n",
              "    .dataframe tbody tr th:only-of-type {\n",
              "        vertical-align: middle;\n",
              "    }\n",
              "\n",
              "    .dataframe tbody tr th {\n",
              "        vertical-align: top;\n",
              "    }\n",
              "\n",
              "    .dataframe thead th {\n",
              "        text-align: right;\n",
              "    }\n",
              "</style>\n",
              "<table border=\"1\" class=\"dataframe\">\n",
              "  <thead>\n",
              "    <tr style=\"text-align: right;\">\n",
              "      <th></th>\n",
              "      <th>DATA</th>\n",
              "      <th>FORNECEDOR</th>\n",
              "      <th>DESTINO</th>\n",
              "      <th>ESTADO/MUNICIPIO</th>\n",
              "      <th>TIPO</th>\n",
              "      <th>QUANTIDADE</th>\n",
              "      <th>VALOR</th>\n",
              "      <th>DESTINATARIO</th>\n",
              "      <th>UF</th>\n",
              "      <th>DATA DE ENTREGA</th>\n",
              "      <th>DELAY</th>\n",
              "    </tr>\n",
              "  </thead>\n",
              "  <tbody>\n",
              "    <tr>\n",
              "      <th>0</th>\n",
              "      <td>2020-04-19</td>\n",
              "      <td>VYAIRE</td>\n",
              "      <td>RIO DE JANEIRO</td>\n",
              "      <td>ESTADO</td>\n",
              "      <td>UTI</td>\n",
              "      <td>40</td>\n",
              "      <td>2400000.0</td>\n",
              "      <td>ALMOXARIFADO ESTADUAL DE MEDICAMENTOS - RIO DE...</td>\n",
              "      <td>RJ</td>\n",
              "      <td>2020-04-19</td>\n",
              "      <td>0 days</td>\n",
              "    </tr>\n",
              "    <tr>\n",
              "      <th>1</th>\n",
              "      <td>2020-04-22</td>\n",
              "      <td>VYAIRE</td>\n",
              "      <td>RIO DE JANEIRO</td>\n",
              "      <td>ESTADO</td>\n",
              "      <td>UTI</td>\n",
              "      <td>20</td>\n",
              "      <td>1200000.0</td>\n",
              "      <td>LABORATÓRIO QUÍMICO FARMACÊUTICO DE AERONÁUTICA</td>\n",
              "      <td>RJ</td>\n",
              "      <td>2020-04-23</td>\n",
              "      <td>1 days</td>\n",
              "    </tr>\n",
              "    <tr>\n",
              "      <th>2</th>\n",
              "      <td>2020-05-08</td>\n",
              "      <td>MAGNAMED</td>\n",
              "      <td>RIO DE JANEIRO</td>\n",
              "      <td>ESTADO</td>\n",
              "      <td>UTI</td>\n",
              "      <td>25</td>\n",
              "      <td>1500000.0</td>\n",
              "      <td>ALMOXARIFADO ESTADUAL DE MEDICAMENTOS - RIO DE...</td>\n",
              "      <td>RJ</td>\n",
              "      <td>2020-05-09</td>\n",
              "      <td>1 days</td>\n",
              "    </tr>\n",
              "    <tr>\n",
              "      <th>3</th>\n",
              "      <td>2020-05-08</td>\n",
              "      <td>KTK</td>\n",
              "      <td>RIO DE JANEIRO</td>\n",
              "      <td>ESTADO</td>\n",
              "      <td>UTI</td>\n",
              "      <td>15</td>\n",
              "      <td>900000.0</td>\n",
              "      <td>ALMOXARIFADO ESTADUAL DE MEDICAMENTOS - RIO DE...</td>\n",
              "      <td>RJ</td>\n",
              "      <td>2020-05-09</td>\n",
              "      <td>1 days</td>\n",
              "    </tr>\n",
              "    <tr>\n",
              "      <th>4</th>\n",
              "      <td>2020-05-09</td>\n",
              "      <td>LEISTUNG</td>\n",
              "      <td>RIO DE JANEIRO</td>\n",
              "      <td>ESTADO</td>\n",
              "      <td>UTI</td>\n",
              "      <td>6</td>\n",
              "      <td>360000.0</td>\n",
              "      <td>ALMOXARIFADO ESTADUAL DE MEDICAMENTOS - RIO DE...</td>\n",
              "      <td>RJ</td>\n",
              "      <td>2020-05-09</td>\n",
              "      <td>0 days</td>\n",
              "    </tr>\n",
              "  </tbody>\n",
              "</table>\n",
              "</div>"
            ],
            "text/plain": [
              "        DATA FORNECEDOR         DESTINO  ...  UF DATA DE ENTREGA  DELAY\n",
              "0 2020-04-19     VYAIRE  RIO DE JANEIRO  ...  RJ      2020-04-19 0 days\n",
              "1 2020-04-22     VYAIRE  RIO DE JANEIRO  ...  RJ      2020-04-23 1 days\n",
              "2 2020-05-08   MAGNAMED  RIO DE JANEIRO  ...  RJ      2020-05-09 1 days\n",
              "3 2020-05-08        KTK  RIO DE JANEIRO  ...  RJ      2020-05-09 1 days\n",
              "4 2020-05-09   LEISTUNG  RIO DE JANEIRO  ...  RJ      2020-05-09 0 days\n",
              "\n",
              "[5 rows x 11 columns]"
            ]
          },
          "metadata": {
            "tags": []
          },
          "execution_count": 16
        }
      ]
    },
    {
      "cell_type": "code",
      "metadata": {
        "id": "SbfmTC6Jl-by",
        "outputId": "e5d0d368-e055-49b9-8aa2-e8055a9740b1",
        "colab": {
          "base_uri": "https://localhost:8080/",
          "height": 294
        }
      },
      "source": [
        "df_delay.describe()"
      ],
      "execution_count": 17,
      "outputs": [
        {
          "output_type": "execute_result",
          "data": {
            "text/html": [
              "<div>\n",
              "<style scoped>\n",
              "    .dataframe tbody tr th:only-of-type {\n",
              "        vertical-align: middle;\n",
              "    }\n",
              "\n",
              "    .dataframe tbody tr th {\n",
              "        vertical-align: top;\n",
              "    }\n",
              "\n",
              "    .dataframe thead th {\n",
              "        text-align: right;\n",
              "    }\n",
              "</style>\n",
              "<table border=\"1\" class=\"dataframe\">\n",
              "  <thead>\n",
              "    <tr style=\"text-align: right;\">\n",
              "      <th></th>\n",
              "      <th>QUANTIDADE</th>\n",
              "      <th>VALOR</th>\n",
              "      <th>DELAY</th>\n",
              "    </tr>\n",
              "  </thead>\n",
              "  <tbody>\n",
              "    <tr>\n",
              "      <th>count</th>\n",
              "      <td>1644.000000</td>\n",
              "      <td>1.644000e+03</td>\n",
              "      <td>1644</td>\n",
              "    </tr>\n",
              "    <tr>\n",
              "      <th>mean</th>\n",
              "      <td>7.272506</td>\n",
              "      <td>3.797893e+05</td>\n",
              "      <td>5 days 08:00:52.554744525</td>\n",
              "    </tr>\n",
              "    <tr>\n",
              "      <th>std</th>\n",
              "      <td>13.743497</td>\n",
              "      <td>7.410215e+05</td>\n",
              "      <td>3 days 11:22:24.755114401</td>\n",
              "    </tr>\n",
              "    <tr>\n",
              "      <th>min</th>\n",
              "      <td>1.000000</td>\n",
              "      <td>2.000000e+04</td>\n",
              "      <td>0 days 00:00:00</td>\n",
              "    </tr>\n",
              "    <tr>\n",
              "      <th>25%</th>\n",
              "      <td>2.000000</td>\n",
              "      <td>6.000000e+04</td>\n",
              "      <td>3 days 00:00:00</td>\n",
              "    </tr>\n",
              "    <tr>\n",
              "      <th>50%</th>\n",
              "      <td>3.000000</td>\n",
              "      <td>1.448700e+05</td>\n",
              "      <td>5 days 00:00:00</td>\n",
              "    </tr>\n",
              "    <tr>\n",
              "      <th>75%</th>\n",
              "      <td>7.000000</td>\n",
              "      <td>3.600000e+05</td>\n",
              "      <td>7 days 00:00:00</td>\n",
              "    </tr>\n",
              "    <tr>\n",
              "      <th>max</th>\n",
              "      <td>300.000000</td>\n",
              "      <td>1.448700e+07</td>\n",
              "      <td>32 days 00:00:00</td>\n",
              "    </tr>\n",
              "  </tbody>\n",
              "</table>\n",
              "</div>"
            ],
            "text/plain": [
              "        QUANTIDADE         VALOR                      DELAY\n",
              "count  1644.000000  1.644000e+03                       1644\n",
              "mean      7.272506  3.797893e+05  5 days 08:00:52.554744525\n",
              "std      13.743497  7.410215e+05  3 days 11:22:24.755114401\n",
              "min       1.000000  2.000000e+04            0 days 00:00:00\n",
              "25%       2.000000  6.000000e+04            3 days 00:00:00\n",
              "50%       3.000000  1.448700e+05            5 days 00:00:00\n",
              "75%       7.000000  3.600000e+05            7 days 00:00:00\n",
              "max     300.000000  1.448700e+07           32 days 00:00:00"
            ]
          },
          "metadata": {
            "tags": []
          },
          "execution_count": 17
        }
      ]
    },
    {
      "cell_type": "code",
      "metadata": {
        "id": "HGDEpFkxIfd-",
        "outputId": "56c07f0d-99cf-4380-d898-df1bc1503be9",
        "colab": {
          "base_uri": "https://localhost:8080/",
          "height": 202
        }
      },
      "source": [
        "mapper = {\"KTK/VAYIRE\":\"KTK\",\"LEISTUNG/VYAIRE\":\"LEISTUNG\",\"Leistung\":\"LEISTUNG\",\"MAGNAMED-REQUISIÇÃO\":\"MAGNAMED\",\n",
        "          \"MAGNAMED/REQUISIÇÃO\":\"MAGNAMED\",\"SUZANO/RESMED\":\"SUZANO\",\"SUZANO/Resmed\":\"SUZANO\",\"SUZANO/Zhongxun Medical\":\"SUZANO\",\n",
        "          \"VYAIRE LTV 1200 USA\":\"VYAIRE\", \"VYAIRE LTV 2200 USA\":\"VYAIRE\"}\n",
        "\n",
        "df['FORNECEDOR'] = df['FORNECEDOR'].replace(mapper)\n",
        "df.tail()"
      ],
      "execution_count": 18,
      "outputs": [
        {
          "output_type": "execute_result",
          "data": {
            "text/html": [
              "<div>\n",
              "<style scoped>\n",
              "    .dataframe tbody tr th:only-of-type {\n",
              "        vertical-align: middle;\n",
              "    }\n",
              "\n",
              "    .dataframe tbody tr th {\n",
              "        vertical-align: top;\n",
              "    }\n",
              "\n",
              "    .dataframe thead th {\n",
              "        text-align: right;\n",
              "    }\n",
              "</style>\n",
              "<table border=\"1\" class=\"dataframe\">\n",
              "  <thead>\n",
              "    <tr style=\"text-align: right;\">\n",
              "      <th></th>\n",
              "      <th>DATA</th>\n",
              "      <th>FORNECEDOR</th>\n",
              "      <th>DESTINO</th>\n",
              "      <th>ESTADO/MUNICIPIO</th>\n",
              "      <th>TIPO</th>\n",
              "      <th>QUANTIDADE</th>\n",
              "      <th>VALOR</th>\n",
              "      <th>DESTINATARIO</th>\n",
              "      <th>UF</th>\n",
              "      <th>DATA DE ENTREGA</th>\n",
              "    </tr>\n",
              "  </thead>\n",
              "  <tbody>\n",
              "    <tr>\n",
              "      <th>1642</th>\n",
              "      <td>24/09/2020</td>\n",
              "      <td>VYAIRE</td>\n",
              "      <td>PARANA</td>\n",
              "      <td>MUNICIPIO</td>\n",
              "      <td>TRANSPORTE USA</td>\n",
              "      <td>1</td>\n",
              "      <td>63125.97</td>\n",
              "      <td>SMS de GUAIRA</td>\n",
              "      <td>PR</td>\n",
              "      <td>28/09/2020</td>\n",
              "    </tr>\n",
              "    <tr>\n",
              "      <th>1643</th>\n",
              "      <td>08/10/2020</td>\n",
              "      <td>VYAIRE</td>\n",
              "      <td>PARANA</td>\n",
              "      <td>ESTADO</td>\n",
              "      <td>TRANSPORTE USA</td>\n",
              "      <td>20</td>\n",
              "      <td>1262519.40</td>\n",
              "      <td>5o Batalhao de Suprimento</td>\n",
              "      <td>PR</td>\n",
              "      <td>17/10/2020</td>\n",
              "    </tr>\n",
              "    <tr>\n",
              "      <th>1644</th>\n",
              "      <td>08/10/2020</td>\n",
              "      <td>MAGNAMED</td>\n",
              "      <td>PARANA</td>\n",
              "      <td>ESTADO</td>\n",
              "      <td>UTI</td>\n",
              "      <td>4</td>\n",
              "      <td>240000.00</td>\n",
              "      <td>5o Batalhao de Suprimento</td>\n",
              "      <td>PR</td>\n",
              "      <td>17/10/2020</td>\n",
              "    </tr>\n",
              "    <tr>\n",
              "      <th>1645</th>\n",
              "      <td>16/10/2020</td>\n",
              "      <td>MAGNAMED</td>\n",
              "      <td>PARANA</td>\n",
              "      <td>MUNICIPIO</td>\n",
              "      <td>UTI</td>\n",
              "      <td>1</td>\n",
              "      <td>60000.00</td>\n",
              "      <td>SMS de WENCESLAU BRAZ</td>\n",
              "      <td>PR</td>\n",
              "      <td>21/10/2020</td>\n",
              "    </tr>\n",
              "    <tr>\n",
              "      <th>1646</th>\n",
              "      <td>07/08/2020</td>\n",
              "      <td>MAGNAMED</td>\n",
              "      <td>LIBANO</td>\n",
              "      <td>-</td>\n",
              "      <td>TRANSPORTE</td>\n",
              "      <td>300</td>\n",
              "      <td>14487000.00</td>\n",
              "      <td>MISSÃO FAB (Doação Destino ao Libano).</td>\n",
              "      <td>-</td>\n",
              "      <td>08/08/2020</td>\n",
              "    </tr>\n",
              "  </tbody>\n",
              "</table>\n",
              "</div>"
            ],
            "text/plain": [
              "            DATA FORNECEDOR  ...  UF DATA DE ENTREGA\n",
              "1642  24/09/2020     VYAIRE  ...  PR      28/09/2020\n",
              "1643  08/10/2020     VYAIRE  ...  PR      17/10/2020\n",
              "1644  08/10/2020   MAGNAMED  ...  PR      17/10/2020\n",
              "1645  16/10/2020   MAGNAMED  ...  PR      21/10/2020\n",
              "1646  07/08/2020   MAGNAMED  ...   -      08/08/2020\n",
              "\n",
              "[5 rows x 10 columns]"
            ]
          },
          "metadata": {
            "tags": []
          },
          "execution_count": 18
        }
      ]
    },
    {
      "cell_type": "markdown",
      "metadata": {
        "id": "AifFHomzzmBe"
      },
      "source": [
        "## **Exploratory Data Analysis**"
      ]
    },
    {
      "cell_type": "code",
      "metadata": {
        "id": "7F2xrrocUvLo",
        "outputId": "4a911ca8-bcd8-4503-80ab-d16a11127d3b",
        "colab": {
          "base_uri": "https://localhost:8080/",
          "height": 1000
        }
      },
      "source": [
        "breath_by_state = df.groupby(['DESTINO'])['QUANTIDADE'].sum()\n",
        "sns.set(style=\"whitegrid\")\n",
        "sns.set_palette(\"pastel\")\n",
        "plt.figure(figsize=(13,7))\n",
        "ax = sns.barplot(breath_by_state.index, breath_by_state)\n",
        "ax.set_xticklabels(labels=breath_by_state.index, rotation=90)"
      ],
      "execution_count": 20,
      "outputs": [
        {
          "output_type": "stream",
          "text": [
            "/usr/local/lib/python3.6/dist-packages/seaborn/_decorators.py:43: FutureWarning: Pass the following variables as keyword args: x, y. From version 0.12, the only valid positional argument will be `data`, and passing other arguments without an explicit keyword will result in an error or misinterpretation.\n",
            "  FutureWarning\n"
          ],
          "name": "stderr"
        },
        {
          "output_type": "execute_result",
          "data": {
            "text/plain": [
              "[Text(0, 0, 'ACRE'),\n",
              " Text(0, 0, 'ALAGOAS'),\n",
              " Text(0, 0, 'AMAPA'),\n",
              " Text(0, 0, 'AMAZONAS'),\n",
              " Text(0, 0, 'BAHIA'),\n",
              " Text(0, 0, 'CEARA'),\n",
              " Text(0, 0, 'DISTRITO FEDERAL'),\n",
              " Text(0, 0, 'ESPIRITO SANTO '),\n",
              " Text(0, 0, 'GOIAS'),\n",
              " Text(0, 0, 'LIBANO'),\n",
              " Text(0, 0, 'MARANHÃO'),\n",
              " Text(0, 0, 'MATO GROSSO '),\n",
              " Text(0, 0, 'MATO GROSSO DO SUL'),\n",
              " Text(0, 0, 'MINAS GERAIS'),\n",
              " Text(0, 0, 'PARA'),\n",
              " Text(0, 0, 'PARAIBA'),\n",
              " Text(0, 0, 'PARANA'),\n",
              " Text(0, 0, 'PERNAMBUCO'),\n",
              " Text(0, 0, 'PIAUI'),\n",
              " Text(0, 0, 'RIO DE JANEIRO'),\n",
              " Text(0, 0, 'RIO GRANDE DO NORTE'),\n",
              " Text(0, 0, 'RIO GRANDE DO SUL '),\n",
              " Text(0, 0, 'RONDONIA'),\n",
              " Text(0, 0, 'RORAIMA'),\n",
              " Text(0, 0, 'SANTA CATARINA'),\n",
              " Text(0, 0, 'SERGIPE'),\n",
              " Text(0, 0, 'SÃO PAULO'),\n",
              " Text(0, 0, 'TOCANTINS')]"
            ]
          },
          "metadata": {
            "tags": []
          },
          "execution_count": 20
        },
        {
          "output_type": "display_data",
          "data": {
            "image/png": "[encoded data removed]",
            "text/plain": [
              "<Figure size 936x504 with 1 Axes>"
            ]
          },
          "metadata": {
            "tags": []
          }
        }
      ]
    },
    {
      "cell_type": "code",
      "metadata": {
        "id": "vU7LPGXbm9_F",
        "outputId": "5d0ab057-e565-4e8d-c129-21f87781ca88",
        "colab": {
          "base_uri": "https://localhost:8080/"
        }
      },
      "source": [
        "mean_by_breather = df['VALOR'].sum()/df['QUANTIDADE'].sum()\n",
        "print('Your average breather was acquired by {} reais'.format(round(mean_by_breather)))"
      ],
      "execution_count": 21,
      "outputs": [
        {
          "output_type": "stream",
          "text": [
            "Your average breather was acquired by 52244.0 reais\n"
          ],
          "name": "stdout"
        }
      ]
    },
    {
      "cell_type": "code",
      "metadata": {
        "id": "KTTrya034JT3",
        "outputId": "82c809e0-be4e-4f57-d7fb-6ea216396496",
        "colab": {
          "base_uri": "https://localhost:8080/",
          "height": 1000
        }
      },
      "source": [
        "group_by_quant = df.groupby(['DESTINO'])['QUANTIDADE'].sum()\n",
        "group_by_value = df.groupby(['DESTINO'])['VALOR'].sum()\n",
        "mean_by_state = pd.DataFrame(group_by_quant)\n",
        "mean_by_state['VALOR'] = group_by_value\n",
        "mean_by_state['MEAN'] = mean_by_state['VALOR']/mean_by_state['QUANTIDADE']\n",
        "plt.figure(figsize=(12,7))\n",
        "ax = sns.barplot(x=mean_by_state.index, y=mean_by_state['MEAN'])\n",
        "ax.set_xticklabels(labels=breath_by_state.index, rotation=90)"
      ],
      "execution_count": 22,
      "outputs": [
        {
          "output_type": "execute_result",
          "data": {
            "text/plain": [
              "[Text(0, 0, 'ACRE'),\n",
              " Text(0, 0, 'ALAGOAS'),\n",
              " Text(0, 0, 'AMAPA'),\n",
              " Text(0, 0, 'AMAZONAS'),\n",
              " Text(0, 0, 'BAHIA'),\n",
              " Text(0, 0, 'CEARA'),\n",
              " Text(0, 0, 'DISTRITO FEDERAL'),\n",
              " Text(0, 0, 'ESPIRITO SANTO '),\n",
              " Text(0, 0, 'GOIAS'),\n",
              " Text(0, 0, 'LIBANO'),\n",
              " Text(0, 0, 'MARANHÃO'),\n",
              " Text(0, 0, 'MATO GROSSO '),\n",
              " Text(0, 0, 'MATO GROSSO DO SUL'),\n",
              " Text(0, 0, 'MINAS GERAIS'),\n",
              " Text(0, 0, 'PARA'),\n",
              " Text(0, 0, 'PARAIBA'),\n",
              " Text(0, 0, 'PARANA'),\n",
              " Text(0, 0, 'PERNAMBUCO'),\n",
              " Text(0, 0, 'PIAUI'),\n",
              " Text(0, 0, 'RIO DE JANEIRO'),\n",
              " Text(0, 0, 'RIO GRANDE DO NORTE'),\n",
              " Text(0, 0, 'RIO GRANDE DO SUL '),\n",
              " Text(0, 0, 'RONDONIA'),\n",
              " Text(0, 0, 'RORAIMA'),\n",
              " Text(0, 0, 'SANTA CATARINA'),\n",
              " Text(0, 0, 'SERGIPE'),\n",
              " Text(0, 0, 'SÃO PAULO'),\n",
              " Text(0, 0, 'TOCANTINS')]"
            ]
          },
          "metadata": {
            "tags": []
          },
          "execution_count": 22
        },
        {
          "output_type": "display_data",
          "data": {
            "image/png": "[encoded data removed]",
            "text/plain": [
              "<Figure size 864x504 with 1 Axes>"
            ]
          },
          "metadata": {
            "tags": []
          }
        }
      ]
    },
    {
      "cell_type": "code",
      "metadata": {
        "id": "-cf5vGQzD8pm",
        "outputId": "a2a4cff4-bc9b-4420-fdb6-a24b68a2547b",
        "colab": {
          "base_uri": "https://localhost:8080/"
        }
      },
      "source": [
        "df_delay.info()"
      ],
      "execution_count": 23,
      "outputs": [
        {
          "output_type": "stream",
          "text": [
            "<class 'pandas.core.frame.DataFrame'>\n",
            "Int64Index: 1644 entries, 0 to 1646\n",
            "Data columns (total 11 columns):\n",
            " #   Column            Non-Null Count  Dtype          \n",
            "---  ------            --------------  -----          \n",
            " 0   DATA              1644 non-null   datetime64[ns] \n",
            " 1   FORNECEDOR        1644 non-null   object         \n",
            " 2   DESTINO           1644 non-null   object         \n",
            " 3   ESTADO/MUNICIPIO  1644 non-null   object         \n",
            " 4   TIPO              1644 non-null   object         \n",
            " 5   QUANTIDADE        1644 non-null   int64          \n",
            " 6   VALOR             1644 non-null   float64        \n",
            " 7   DESTINATARIO      1644 non-null   object         \n",
            " 8   UF                1644 non-null   object         \n",
            " 9   DATA DE ENTREGA   1644 non-null   datetime64[ns] \n",
            " 10  DELAY             1644 non-null   timedelta64[ns]\n",
            "dtypes: datetime64[ns](2), float64(1), int64(1), object(6), timedelta64[ns](1)\n",
            "memory usage: 154.1+ KB\n"
          ],
          "name": "stdout"
        }
      ]
    },
    {
      "cell_type": "code",
      "metadata": {
        "id": "QH8s4-Zg6ZEE",
        "outputId": "1dd89a04-75c9-44c1-ff88-3448d24b7c2f",
        "colab": {
          "base_uri": "https://localhost:8080/",
          "height": 1000
        }
      },
      "source": [
        "total_state = df_delay.groupby(['DESTINO'])['DESTINO'].count()\n",
        "delay_by_state = df_delay.groupby(['DESTINO'])['DELAY'].sum()\n",
        "df_delay_by_delivery = pd.DataFrame(total_state)\n",
        "df_delay_by_delivery['DELAY'] = delay_by_state\n",
        "df_delay_by_delivery['MEAN-DELAY'] = df_delay_by_delivery['DELAY']/df_delay_by_delivery['DESTINO']\n",
        "df_delay_by_delivery['MEAN-DELAY'] = pd.to_numeric(df_delay_by_delivery['MEAN-DELAY'])\n",
        "sns.set(style=\"whitegrid\")\n",
        "sns.set_palette('colorblind')\n",
        "plt.figure(figsize=(12,7))\n",
        "ax = sns.barplot(x=df_delay_by_delivery.index, y=df_delay_by_delivery['MEAN-DELAY'])\n",
        "ax.set_xticklabels(labels=breath_by_state.index, rotation=90)"
      ],
      "execution_count": 34,
      "outputs": [
        {
          "output_type": "execute_result",
          "data": {
            "text/plain": [
              "[Text(0, 0, 'ACRE'),\n",
              " Text(0, 0, 'ALAGOAS'),\n",
              " Text(0, 0, 'AMAPA'),\n",
              " Text(0, 0, 'AMAZONAS'),\n",
              " Text(0, 0, 'BAHIA'),\n",
              " Text(0, 0, 'CEARA'),\n",
              " Text(0, 0, 'DISTRITO FEDERAL'),\n",
              " Text(0, 0, 'ESPIRITO SANTO '),\n",
              " Text(0, 0, 'GOIAS'),\n",
              " Text(0, 0, 'LIBANO'),\n",
              " Text(0, 0, 'MARANHÃO'),\n",
              " Text(0, 0, 'MATO GROSSO '),\n",
              " Text(0, 0, 'MATO GROSSO DO SUL'),\n",
              " Text(0, 0, 'MINAS GERAIS'),\n",
              " Text(0, 0, 'PARA'),\n",
              " Text(0, 0, 'PARAIBA'),\n",
              " Text(0, 0, 'PARANA'),\n",
              " Text(0, 0, 'PERNAMBUCO'),\n",
              " Text(0, 0, 'PIAUI'),\n",
              " Text(0, 0, 'RIO DE JANEIRO'),\n",
              " Text(0, 0, 'RIO GRANDE DO NORTE'),\n",
              " Text(0, 0, 'RIO GRANDE DO SUL '),\n",
              " Text(0, 0, 'RONDONIA'),\n",
              " Text(0, 0, 'RORAIMA'),\n",
              " Text(0, 0, 'SANTA CATARINA'),\n",
              " Text(0, 0, 'SERGIPE'),\n",
              " Text(0, 0, 'SÃO PAULO'),\n",
              " Text(0, 0, 'TOCANTINS')]"
            ]
          },
          "metadata": {
            "tags": []
          },
          "execution_count": 34
        },
        {
          "output_type": "display_data",
          "data": {
            "image/png": "[encoded data removed]",
            "text/plain": [
              "<Figure size 864x504 with 1 Axes>"
            ]
          },
          "metadata": {
            "tags": []
          }
        }
      ]
    },
    {
      "cell_type": "code",
      "metadata": {
        "id": "yn3HJqdtQaiC"
      },
      "source": [
        "breath_by_supp = df.groupby(['FORNECEDOR','DESTINO'])['QUANTIDADE'].sum()\n",
        "cost_by_supp_state = df.groupby(['FORNECEDOR','DESTINO'])['VALOR'].sum()\n",
        "df_bbs = pd.DataFrame(breath_by_supp)\n",
        "df_bbs.to_html('temp.html')"
      ],
      "execution_count": 47,
      "outputs": []
    },
    {
      "cell_type": "code",
      "metadata": {
        "id": "UCoRSk3CdXJx"
      },
      "source": [
        "df_bcss = pd.DataFrame(breath_by_supp)\n",
        "df_bcss['VALOR'] = cost_by_supp_state\n",
        "df_bcss['MEAN'] = df_bcss['VALOR']/df_bcss['QUANTIDADE']\n",
        "df_bcss.to_html('cost_by_supp_by_state.html')"
      ],
      "execution_count": 53,
      "outputs": []
    }
  ]
}